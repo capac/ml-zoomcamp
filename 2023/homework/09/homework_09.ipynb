{
 "cells": [
  {
   "cell_type": "markdown",
   "id": "4f786c52-61d4-49a5-a50e-44aad3fa8993",
   "metadata": {
    "tags": []
   },
   "source": [
    "In this homework, we'll deploy the bees vs wasps model we trained in the previous homework."
   ]
  },
  {
   "cell_type": "code",
   "execution_count": 1,
   "id": "7d27bee7-a9b9-4a3b-95ac-c883b152906c",
   "metadata": {
    "tags": []
   },
   "outputs": [],
   "source": [
    "import subprocess\n",
    "import os\n",
    "from pathlib import Path\n",
    "from io import BytesIO\n",
    "from urllib import request\n",
    "from PIL import Image"
   ]
  },
  {
   "cell_type": "code",
   "execution_count": 2,
   "id": "9e358eaa-277b-428e-a08a-3248c14fc52d",
   "metadata": {},
   "outputs": [],
   "source": [
    "os.environ['TF_CPP_MIN_LOG_LEVEL'] = '3'"
   ]
  },
  {
   "cell_type": "code",
   "execution_count": 3,
   "id": "f7f9afb9-196b-40b1-b2e0-39e87b8bfe31",
   "metadata": {
    "tags": []
   },
   "outputs": [],
   "source": [
    "import tensorflow as tf\n",
    "from tensorflow import keras\n",
    "import tensorflow.lite as tflite"
   ]
  },
  {
   "cell_type": "code",
   "execution_count": 4,
   "id": "018c07b8-6ee7-4b85-9911-5a95391fd1d6",
   "metadata": {},
   "outputs": [],
   "source": [
    "data_file_url = 'https://github.com/alexeygrigorev/large-datasets/releases/download/wasps-bees/bees-wasps.h5'\n",
    "path = Path.cwd() / 'bees-wasps.h5'\n",
    "if not path.is_file():\n",
    "    subprocess.run(['wget', '-c', data_file_url])"
   ]
  },
  {
   "cell_type": "markdown",
   "id": "68e17ae9-8d00-4893-beb6-5a6625ecc6ed",
   "metadata": {},
   "source": [
    "### Question 1\n",
    "\n",
    "Now convert this model from Keras to TF-Lite format. What's the size of the converted model?\n",
    "\n",
    "* 21 Mb\n",
    "* 43 Mb\n",
    "* 80 Mb\n",
    "* 164 Mb"
   ]
  },
  {
   "cell_type": "code",
   "execution_count": 5,
   "id": "c5391aea-d61e-4c8a-90da-d03852e1b047",
   "metadata": {
    "tags": []
   },
   "outputs": [],
   "source": [
    "model = keras.models.load_model('bees-wasps.h5', compile=False)"
   ]
  },
  {
   "cell_type": "code",
   "execution_count": 6,
   "id": "9cc31a9e-d46c-4b7c-b6ba-86e77b6839be",
   "metadata": {
    "tags": []
   },
   "outputs": [
    {
     "name": "stderr",
     "output_type": "stream",
     "text": [
      "WARNING:absl:Found untraced functions such as _jit_compiled_convolution_op while saving (showing 1 of 1). These functions will not be directly callable after loading.\n"
     ]
    },
    {
     "name": "stdout",
     "output_type": "stream",
     "text": [
      "INFO:tensorflow:Assets written to: /var/folders/47/qjky30_d7_gbx41qhtyr_0z80000gn/T/tmpsh9q5pq3/assets\n"
     ]
    },
    {
     "name": "stderr",
     "output_type": "stream",
     "text": [
      "INFO:tensorflow:Assets written to: /var/folders/47/qjky30_d7_gbx41qhtyr_0z80000gn/T/tmpsh9q5pq3/assets\n"
     ]
    }
   ],
   "source": [
    "converter = tf.lite.TFLiteConverter.from_keras_model(model)\n",
    "tflite_model = converter.convert()"
   ]
  },
  {
   "cell_type": "code",
   "execution_count": 7,
   "id": "95e27073-c376-4330-b63b-47b49ace42ad",
   "metadata": {
    "tags": []
   },
   "outputs": [],
   "source": [
    "with open('bees-wasps.tflite', 'wb') as f_out:\n",
    "    f_out.write(tflite_model)"
   ]
  },
  {
   "cell_type": "markdown",
   "id": "bfc8d3b7-2903-46ba-8df1-842aa4f8c4f3",
   "metadata": {},
   "source": [
    "### Question 2\n",
    "\n",
    "To be able to use this model, we need to know the index of the input and the index of the output. What's the output index for this model?\n",
    "\n",
    "* 3\n",
    "* 7\n",
    "* 13\n",
    "* 24"
   ]
  },
  {
   "cell_type": "code",
   "execution_count": 8,
   "id": "58d00c0f-ff68-4537-a138-59fbd04422c5",
   "metadata": {
    "tags": []
   },
   "outputs": [
    {
     "name": "stderr",
     "output_type": "stream",
     "text": [
      "INFO: Initialized TensorFlow Lite runtime.\n",
      "INFO: Applying 1 TensorFlow Lite delegate(s) lazily.\n"
     ]
    }
   ],
   "source": [
    "interpreter = tflite.Interpreter(model_path='bees-wasps.tflite')\n",
    "interpreter.allocate_tensors()"
   ]
  },
  {
   "cell_type": "code",
   "execution_count": 9,
   "id": "8a570e26-450e-4802-a7a7-d07ba93154e6",
   "metadata": {
    "tags": []
   },
   "outputs": [
    {
     "name": "stdout",
     "output_type": "stream",
     "text": [
      "Input index: 0, Output index: 13\n"
     ]
    }
   ],
   "source": [
    "input_index = interpreter.get_input_details()[0]['index']\n",
    "output_index = interpreter.get_output_details()[0]['index']\n",
    "print(f'Input index: {input_index}, Output index: {output_index}')"
   ]
  }
 ],
 "metadata": {
  "kernelspec": {
   "display_name": "Python 3 (ipykernel)",
   "language": "python",
   "name": "python3"
  },
  "language_info": {
   "codemirror_mode": {
    "name": "ipython",
    "version": 3
   },
   "file_extension": ".py",
   "mimetype": "text/x-python",
   "name": "python",
   "nbconvert_exporter": "python",
   "pygments_lexer": "ipython3",
   "version": "3.9.18"
  }
 },
 "nbformat": 4,
 "nbformat_minor": 5
}
