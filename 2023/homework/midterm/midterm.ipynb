{
 "cells": [
  {
   "cell_type": "markdown",
   "id": "bcdca0c9-1c51-4dac-9867-ca28d6c90388",
   "metadata": {},
   "source": [
    "# ML Zoomcamp 2023 &ndash; Midterm Project\n",
    "\n",
    "This dataset include data for the estimation of obesity levels in individuals from the countries of Mexico, Peru and Colombia, based on their eating habits and physical condition. The data set can be retrieved from the UCI Machine Learning Repository at the link below.\n",
    "\n",
    "* [Estimation of obesity levels based on eating habits and physical condition &ndash; UCI Machine Learning Repository](http://archive.ics.uci.edu/dataset/544/estimation+of+obesity+levels+based+on+eating+habits+and+physical+condition)\n",
    "\n",
    "The research article contains a description of the features on data set.\n",
    "* [Dataset for estimation of obesity levels based on eating habits and physical condition in individuals from Colombia, Peru and Mexico](https://www.sciencedirect.com/science/article/pii/S2352340919306985)"
   ]
  },
  {
   "cell_type": "code",
   "execution_count": null,
   "id": "9990c0b3-93b2-4f40-b86c-e74d525dcd41",
   "metadata": {},
   "outputs": [],
   "source": [
    "import numpy as np\n",
    "import pandas as pd\n",
    "import matplotlib.pyplot as plt\n",
    "from sklearn.feature_extraction import DictVectorizer\n",
    "from sklearn.model_selection import train_test_split\n",
    "%matplotlib inline"
   ]
  }
 ],
 "metadata": {
  "kernelspec": {
   "display_name": "Python 3 (ipykernel)",
   "language": "python",
   "name": "python3"
  },
  "language_info": {
   "codemirror_mode": {
    "name": "ipython",
    "version": 3
   },
   "file_extension": ".py",
   "mimetype": "text/x-python",
   "name": "python",
   "nbconvert_exporter": "python",
   "pygments_lexer": "ipython3",
   "version": "3.9.18"
  }
 },
 "nbformat": 4,
 "nbformat_minor": 5
}
