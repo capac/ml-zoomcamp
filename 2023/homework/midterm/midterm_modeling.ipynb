{
 "cells": [
  {
   "cell_type": "markdown",
   "id": "c5ce1064-0aec-46e9-8056-89770f2c613d",
   "metadata": {
    "tags": []
   },
   "source": [
    "# ML Zoomcamp 2023 &ndash; Midterm Project\n",
    "\n",
    "The _Heart failure clinical records_ dataset contains the medical records of 299 patients who had heart failure, collected during their follow-up period, where each patient profile has 13 clinical features. The data set can be retrieved from the UCI Machine Learning Repository at the link, [Heart failure clinical records](http://archive.ics.uci.edu/dataset/519/heart+failure+clinical+records). The research article for the data set can be accessed at the link, [Machine learning can predict survival of patients with heart failure from serum creatinine and ejection fraction alone](https://www.semanticscholar.org/paper/Machine-learning-can-predict-survival-of-patients-Chicco-Jurman/e64579d8593140396b518682bb3a47ba246684eb) (link to pdf of article [here](https://bmcmedinformdecismak.biomedcentral.com/counter/pdf/10.1186/s12911-020-1023-5.pdf)).\n",
    "\n",
    "* [Data preparation](#Data-preparation)\n",
    "* [Data transformation](#Data-transformation)\n",
    "    * [Modeling with logistic regression, decision trees and random forests](#Modeling-with-logistic-regression,-decision-trees-and-random-forests)\n",
    "    * [Modeling with XGBoost](#Modeling-with-XGBoost)"
   ]
  },
  {
   "cell_type": "code",
   "execution_count": 1,
   "id": "1050392d-a882-44c3-be17-465daf2c9230",
   "metadata": {
    "tags": []
   },
   "outputs": [],
   "source": [
    "import numpy as np\n",
    "import pandas as pd\n",
    "import matplotlib.pyplot as plt\n",
    "import seaborn as sns\n",
    "from sklearn.feature_extraction import DictVectorizer\n",
    "from sklearn.linear_model import LogisticRegression\n",
    "from sklearn.ensemble import RandomForestClassifier\n",
    "from sklearn.tree import DecisionTreeClassifier\n",
    "from sklearn.model_selection import train_test_split\n",
    "from sklearn.metrics import roc_auc_score, f1_score\n",
    "import xgboost as xgb\n",
    "import matplotlib.pyplot as plt\n",
    "import warnings\n",
    "%matplotlib inline"
   ]
  },
  {
   "cell_type": "markdown",
   "id": "3ddc0959-744c-480c-a650-6bf1f11cbd9b",
   "metadata": {},
   "source": [
    "## Data preparation"
   ]
  },
  {
   "cell_type": "code",
   "execution_count": 2,
   "id": "b87b55b7-1111-42bf-a261-1591f4ae8d8e",
   "metadata": {
    "tags": []
   },
   "outputs": [
    {
     "data": {
      "text/html": [
       "<div>\n",
       "<style scoped>\n",
       "    .dataframe tbody tr th:only-of-type {\n",
       "        vertical-align: middle;\n",
       "    }\n",
       "\n",
       "    .dataframe tbody tr th {\n",
       "        vertical-align: top;\n",
       "    }\n",
       "\n",
       "    .dataframe thead th {\n",
       "        text-align: right;\n",
       "    }\n",
       "</style>\n",
       "<table border=\"1\" class=\"dataframe\">\n",
       "  <thead>\n",
       "    <tr style=\"text-align: right;\">\n",
       "      <th></th>\n",
       "      <th>0</th>\n",
       "      <th>1</th>\n",
       "      <th>2</th>\n",
       "      <th>3</th>\n",
       "      <th>4</th>\n",
       "    </tr>\n",
       "  </thead>\n",
       "  <tbody>\n",
       "    <tr>\n",
       "      <th>age</th>\n",
       "      <td>75.0</td>\n",
       "      <td>55.0</td>\n",
       "      <td>65.0</td>\n",
       "      <td>50.0</td>\n",
       "      <td>65.0</td>\n",
       "    </tr>\n",
       "    <tr>\n",
       "      <th>anaemia</th>\n",
       "      <td>No</td>\n",
       "      <td>No</td>\n",
       "      <td>No</td>\n",
       "      <td>Yes</td>\n",
       "      <td>Yes</td>\n",
       "    </tr>\n",
       "    <tr>\n",
       "      <th>creatinine_phosphokinase</th>\n",
       "      <td>582</td>\n",
       "      <td>7861</td>\n",
       "      <td>146</td>\n",
       "      <td>111</td>\n",
       "      <td>160</td>\n",
       "    </tr>\n",
       "    <tr>\n",
       "      <th>diabetes</th>\n",
       "      <td>No</td>\n",
       "      <td>No</td>\n",
       "      <td>No</td>\n",
       "      <td>No</td>\n",
       "      <td>Yes</td>\n",
       "    </tr>\n",
       "    <tr>\n",
       "      <th>ejection_fraction</th>\n",
       "      <td>20</td>\n",
       "      <td>38</td>\n",
       "      <td>20</td>\n",
       "      <td>20</td>\n",
       "      <td>20</td>\n",
       "    </tr>\n",
       "    <tr>\n",
       "      <th>high_blood_pressure</th>\n",
       "      <td>Yes</td>\n",
       "      <td>No</td>\n",
       "      <td>No</td>\n",
       "      <td>No</td>\n",
       "      <td>No</td>\n",
       "    </tr>\n",
       "    <tr>\n",
       "      <th>platelets</th>\n",
       "      <td>265000.0</td>\n",
       "      <td>263358.03</td>\n",
       "      <td>162000.0</td>\n",
       "      <td>210000.0</td>\n",
       "      <td>327000.0</td>\n",
       "    </tr>\n",
       "    <tr>\n",
       "      <th>serum_creatinine</th>\n",
       "      <td>1.9</td>\n",
       "      <td>1.1</td>\n",
       "      <td>1.3</td>\n",
       "      <td>1.9</td>\n",
       "      <td>2.7</td>\n",
       "    </tr>\n",
       "    <tr>\n",
       "      <th>serum_sodium</th>\n",
       "      <td>130</td>\n",
       "      <td>136</td>\n",
       "      <td>129</td>\n",
       "      <td>137</td>\n",
       "      <td>116</td>\n",
       "    </tr>\n",
       "    <tr>\n",
       "      <th>sex</th>\n",
       "      <td>Male</td>\n",
       "      <td>Male</td>\n",
       "      <td>Male</td>\n",
       "      <td>Male</td>\n",
       "      <td>Female</td>\n",
       "    </tr>\n",
       "    <tr>\n",
       "      <th>smoking</th>\n",
       "      <td>No</td>\n",
       "      <td>No</td>\n",
       "      <td>Yes</td>\n",
       "      <td>No</td>\n",
       "      <td>No</td>\n",
       "    </tr>\n",
       "    <tr>\n",
       "      <th>time</th>\n",
       "      <td>4</td>\n",
       "      <td>6</td>\n",
       "      <td>7</td>\n",
       "      <td>7</td>\n",
       "      <td>8</td>\n",
       "    </tr>\n",
       "    <tr>\n",
       "      <th>death_event</th>\n",
       "      <td>1</td>\n",
       "      <td>1</td>\n",
       "      <td>1</td>\n",
       "      <td>1</td>\n",
       "      <td>1</td>\n",
       "    </tr>\n",
       "  </tbody>\n",
       "</table>\n",
       "</div>"
      ],
      "text/plain": [
       "                                 0          1         2         3         4\n",
       "age                           75.0       55.0      65.0      50.0      65.0\n",
       "anaemia                         No         No        No       Yes       Yes\n",
       "creatinine_phosphokinase       582       7861       146       111       160\n",
       "diabetes                        No         No        No        No       Yes\n",
       "ejection_fraction               20         38        20        20        20\n",
       "high_blood_pressure            Yes         No        No        No        No\n",
       "platelets                 265000.0  263358.03  162000.0  210000.0  327000.0\n",
       "serum_creatinine               1.9        1.1       1.3       1.9       2.7\n",
       "serum_sodium                   130        136       129       137       116\n",
       "sex                           Male       Male      Male      Male    Female\n",
       "smoking                         No         No       Yes        No        No\n",
       "time                             4          6         7         7         8\n",
       "death_event                      1          1         1         1         1"
      ]
     },
     "execution_count": 2,
     "metadata": {},
     "output_type": "execute_result"
    }
   ],
   "source": [
    "df = pd.read_csv('heart_failure_clinical_records_dataset.csv')\n",
    "df.rename(columns={'DEATH_EVENT': 'death_event'}, inplace=True)\n",
    "for col in ['anaemia', 'diabetes', 'high_blood_pressure', 'smoking']:\n",
    "    df[col].replace(to_replace=[0, 1], value=['No', 'Yes'], inplace=True)\n",
    "df.sex.replace(to_replace=[0, 1], value=['Female', 'Male'], inplace=True)\n",
    "df.head().T"
   ]
  },
  {
   "cell_type": "code",
   "execution_count": 3,
   "id": "8b278447-5255-4f8e-be26-7d09c048800c",
   "metadata": {
    "tags": []
   },
   "outputs": [
    {
     "name": "stdout",
     "output_type": "stream",
     "text": [
      "<class 'pandas.core.frame.DataFrame'>\n",
      "RangeIndex: 299 entries, 0 to 298\n",
      "Data columns (total 13 columns):\n",
      " #   Column                    Non-Null Count  Dtype  \n",
      "---  ------                    --------------  -----  \n",
      " 0   age                       299 non-null    float64\n",
      " 1   anaemia                   299 non-null    object \n",
      " 2   creatinine_phosphokinase  299 non-null    int64  \n",
      " 3   diabetes                  299 non-null    object \n",
      " 4   ejection_fraction         299 non-null    int64  \n",
      " 5   high_blood_pressure       299 non-null    object \n",
      " 6   platelets                 299 non-null    float64\n",
      " 7   serum_creatinine          299 non-null    float64\n",
      " 8   serum_sodium              299 non-null    int64  \n",
      " 9   sex                       299 non-null    object \n",
      " 10  smoking                   299 non-null    object \n",
      " 11  time                      299 non-null    int64  \n",
      " 12  death_event               299 non-null    int64  \n",
      "dtypes: float64(3), int64(5), object(5)\n",
      "memory usage: 30.5+ KB\n"
     ]
    }
   ],
   "source": [
    "df.info()"
   ]
  },
  {
   "cell_type": "markdown",
   "id": "45965704-cad5-4cb0-99d5-b234dc7ad188",
   "metadata": {},
   "source": [
    "## Data transformation"
   ]
  },
  {
   "cell_type": "code",
   "execution_count": 4,
   "id": "7382a5fd-b5b2-42a5-ae72-5e5d82840f15",
   "metadata": {
    "tags": []
   },
   "outputs": [],
   "source": [
    "X = df.drop('death_event', axis=1)\n",
    "y = df.death_event"
   ]
  },
  {
   "cell_type": "code",
   "execution_count": 5,
   "id": "7b71c23c-31cf-4e70-b86a-0572bc04da26",
   "metadata": {
    "tags": []
   },
   "outputs": [],
   "source": [
    "X_full_train, X_test, y_full_train, y_test = train_test_split(X, y, test_size=0.2, random_state=1)\n",
    "X_train, X_val, y_train, y_val = train_test_split(X_full_train, y_full_train, test_size=0.25, random_state=1)"
   ]
  },
  {
   "cell_type": "code",
   "execution_count": 6,
   "id": "102dbc60-626f-4ce7-b8eb-a9a0d8d4cba5",
   "metadata": {
    "tags": []
   },
   "outputs": [],
   "source": [
    "X_train = X_train.reset_index(drop=True)\n",
    "y_train = y_train.reset_index(drop=True)\n",
    "X_val = X_val.reset_index(drop=True)\n",
    "y_val = y_val.reset_index(drop=True)\n",
    "X_test = X_test.reset_index(drop=True)\n",
    "y_test = y_test.reset_index(drop=True)"
   ]
  },
  {
   "cell_type": "code",
   "execution_count": 7,
   "id": "4a0bfdf9-2452-482d-8a21-0bf320ce5bfd",
   "metadata": {
    "tags": []
   },
   "outputs": [],
   "source": [
    "def data_transformation(X_train, X_val, X_test):\n",
    "    X_train_dicts = X_train.to_dict(orient='records')\n",
    "    X_val_dicts = X_val.to_dict(orient='records')\n",
    "    X_test_dicts = X_test.to_dict(orient='records')\n",
    "    dv = DictVectorizer(sparse=True)\n",
    "    X_cat_tr = dv.fit_transform(X_train_dicts)\n",
    "    feature_names = list(dv.get_feature_names_out())\n",
    "    X_cat_val = dv.transform(X_val_dicts)\n",
    "    X_cat_test = dv.transform(X_test_dicts)\n",
    "    return X_cat_tr, X_cat_val, X_cat_test, feature_names"
   ]
  },
  {
   "cell_type": "code",
   "execution_count": 8,
   "id": "af933777-00f5-4750-bcbd-9cca73f62fe1",
   "metadata": {
    "tags": []
   },
   "outputs": [],
   "source": [
    "X_cat_train, X_cat_val, X_test_val, feature_names = data_transformation(X_train, X_val, X_test)"
   ]
  },
  {
   "cell_type": "markdown",
   "id": "8884a596-a9b6-43ad-98d4-532addb25819",
   "metadata": {},
   "source": [
    "### Modeling with logistic regression, decision trees and random forests"
   ]
  },
  {
   "cell_type": "code",
   "execution_count": 9,
   "id": "1dc7ba2a-a7d3-4cd2-b389-1386685b86fb",
   "metadata": {
    "tags": []
   },
   "outputs": [
    {
     "name": "stdout",
     "output_type": "stream",
     "text": [
      "F1 score using logistic regression:    0.773\n",
      "AUC using logistic regression:         0.816\n",
      "\n",
      "F1 score using decision trees:         0.826\n",
      "AUC using decision trees:              0.859\n",
      "\n",
      "F1 score using random forests:         0.864\n",
      "AUC using random forests:              0.886\n"
     ]
    }
   ],
   "source": [
    "with warnings.catch_warnings():\n",
    "    warnings.simplefilter(action='ignore', category=FutureWarning)\n",
    "\n",
    "    lr = LogisticRegression(solver='liblinear', C=1.0, max_iter=1000)\n",
    "    rf = RandomForestClassifier(n_estimators=200, min_samples_leaf=5, max_depth=8, random_state=1)\n",
    "    dt = DecisionTreeClassifier(max_depth=3, min_samples_leaf=5, random_state=1)\n",
    "\n",
    "    lr.fit(X_cat_train, y_train)\n",
    "    dt.fit(X_cat_train, y_train)\n",
    "    rf.fit(X_cat_train, y_train)\n",
    "\n",
    "    y_pred_lr = lr.predict(X_cat_val)\n",
    "    y_pred_dt = dt.predict(X_cat_val)\n",
    "    y_pred_rf = rf.predict(X_cat_val)\n",
    "\n",
    "    auc_result_lr = roc_auc_score(y_val, y_pred_lr)\n",
    "    auc_result_dt = roc_auc_score(y_val, y_pred_dt)\n",
    "    auc_result_rf = roc_auc_score(y_val, y_pred_rf)\n",
    "\n",
    "    f1_score_lr = f1_score(y_val, y_pred_lr)\n",
    "    f1_score_dt = f1_score(y_val, y_pred_dt)\n",
    "    f1_score_rf = f1_score(y_val, y_pred_rf)\n",
    "\n",
    "print(f'F1 score using logistic regression: {f1_score_lr.round(3):>8}')\n",
    "print(f'AUC using logistic regression: {auc_result_lr.round(3):>13}')\n",
    "print()\n",
    "print(f'F1 score using decision trees: {f1_score_dt.round(3):>13}')\n",
    "print(f'AUC using decision trees: {auc_result_dt.round(3):>18}')\n",
    "print()\n",
    "print(f'F1 score using random forests: {f1_score_rf.round(3):>13}')\n",
    "print(f'AUC using random forests: {auc_result_rf.round(3):>18}')"
   ]
  },
  {
   "cell_type": "markdown",
   "id": "6116555f-3e62-4d26-82ef-8820f361ed6b",
   "metadata": {},
   "source": [
    "### Modeling with XGBoost"
   ]
  },
  {
   "cell_type": "code",
   "execution_count": 10,
   "id": "278e1201-69ac-4953-98c8-882c3c204045",
   "metadata": {
    "tags": []
   },
   "outputs": [],
   "source": [
    "with warnings.catch_warnings():\n",
    "    warnings.simplefilter(action='ignore', category=FutureWarning)\n",
    "    dtrain = xgb.DMatrix(X_cat_train, label=y_train, feature_names=feature_names)\n",
    "    dval = xgb.DMatrix(X_cat_val, label=y_val, feature_names=feature_names)"
   ]
  },
  {
   "cell_type": "code",
   "execution_count": 11,
   "id": "69e230ab-3416-4b6a-ae43-351665f6f363",
   "metadata": {
    "tags": []
   },
   "outputs": [],
   "source": [
    "xgb_params = {\n",
    "    'eta': 0.3, \n",
    "    'max_depth': 6,\n",
    "    'min_child_weight': 1,\n",
    "    \n",
    "    'objective': 'binary:logistic',\n",
    "    'nthread': 8,\n",
    "    \n",
    "    'seed': 1,\n",
    "    'verbosity': 1,\n",
    "}"
   ]
  },
  {
   "cell_type": "code",
   "execution_count": 12,
   "id": "5fa2d582-d843-4c6d-aa63-1001619c5309",
   "metadata": {
    "tags": []
   },
   "outputs": [],
   "source": [
    "%%capture output\n",
    "watchlist = [(dtrain, 'train'), (dval, 'val')]\n",
    "model = xgb.train(xgb_params, dtrain, evals=watchlist, num_boost_round=100)"
   ]
  },
  {
   "cell_type": "code",
   "execution_count": 13,
   "id": "aac3e3e9-3d25-4c53-bd2c-99231cc30a03",
   "metadata": {
    "tags": []
   },
   "outputs": [],
   "source": [
    "def parse_xgb_output(output):\n",
    "    results = []\n",
    "    \n",
    "    for line in output.stdout.strip().split('\\n'):\n",
    "        it_line, train_line, val_line = line.split('\\t')\n",
    "        \n",
    "        it = int(it_line.strip('[]'))\n",
    "        train = float(train_line.split(':')[1])\n",
    "        val = float(val_line.split(':')[1])\n",
    "        \n",
    "        results.append((it, train, val))\n",
    "        \n",
    "    df_results = pd.DataFrame(results, columns=['num_iter', 'logloss_train', 'logloss_val'])\n",
    "    return df_results"
   ]
  },
  {
   "cell_type": "code",
   "execution_count": 14,
   "id": "e9ee488c-8a97-4b6b-97af-ccbcc72e9a18",
   "metadata": {
    "tags": []
   },
   "outputs": [],
   "source": [
    "df_score = parse_xgb_output(output)"
   ]
  },
  {
   "cell_type": "code",
   "execution_count": 15,
   "id": "08d28aa6-cc33-4100-a217-23fa40f68d8e",
   "metadata": {
    "tags": []
   },
   "outputs": [
    {
     "data": {
      "image/png": "[encoded data removed]",
      "text/plain": [
       "<Figure size 640x480 with 1 Axes>"
      ]
     },
     "metadata": {},
     "output_type": "display_data"
    }
   ],
   "source": [
    "fig, ax = plt.subplots()\n",
    "ax.scatter(df_score.num_iter, df_score.logloss_train, color='blue', label='train', alpha=0.4)\n",
    "ax.scatter(df_score.num_iter, df_score.logloss_val, color='red', label='val', alpha=0.4)\n",
    "ax.set_xlabel('Number iterations')\n",
    "ax.set_ylabel('Logloss')\n",
    "ax.legend(loc='best')\n",
    "plt.grid(True)"
   ]
  },
  {
   "cell_type": "code",
   "execution_count": 16,
   "id": "fd6d1a5c-e1f6-4655-8327-af97c72bec1f",
   "metadata": {
    "tags": []
   },
   "outputs": [
    {
     "name": "stdout",
     "output_type": "stream",
     "text": [
      "AUC using XGBoost:         0.889\n",
      "F1 score using XGBoost:    0.857\n"
     ]
    }
   ],
   "source": [
    "with warnings.catch_warnings():\n",
    "    warnings.simplefilter(action='ignore', category=FutureWarning)\n",
    "    y_pred = (model.predict(dval) > 0.4).astype(int)\n",
    "    xgb_auc_result = roc_auc_score(y_val, y_pred)\n",
    "    f1_score_result = f1_score(y_val, y_pred)\n",
    "print(f'AUC using XGBoost: {xgb_auc_result.round(3):>13}')\n",
    "print(f'F1 score using XGBoost: {f1_score_result.round(3):>8}')"
   ]
  },
  {
   "cell_type": "code",
   "execution_count": null,
   "id": "414fbdb8-429f-4e25-8023-cc574b36495a",
   "metadata": {},
   "outputs": [],
   "source": []
  }
 ],
 "metadata": {
  "kernelspec": {
   "display_name": "Python 3 (ipykernel)",
   "language": "python",
   "name": "python3"
  },
  "language_info": {
   "codemirror_mode": {
    "name": "ipython",
    "version": 3
   },
   "file_extension": ".py",
   "mimetype": "text/x-python",
   "name": "python",
   "nbconvert_exporter": "python",
   "pygments_lexer": "ipython3",
   "version": "3.9.18"
  }
 },
 "nbformat": 4,
 "nbformat_minor": 5
}
