{
 "cells": [
  {
   "cell_type": "code",
   "execution_count": 1,
   "id": "973f9018-38fa-4a09-9dd7-d46f2242fa2c",
   "metadata": {},
   "outputs": [],
   "source": [
    "import numpy as np\n",
    "import pandas as pd\n",
    "import matplotlib.pyplot as plt\n",
    "from sklearn.feature_extraction import DictVectorizer\n",
    "from sklearn.model_selection import train_test_split\n",
    "from sklearn.tree import DecisionTreeRegressor, plot_tree\n",
    "from sklearn.ensemble import RandomForestRegressor\n",
    "from sklearn.metrics import mean_squared_error\n",
    "import xgboost as xgb\n",
    "import warnings\n",
    "%matplotlib inline"
   ]
  },
  {
   "cell_type": "code",
   "execution_count": 2,
   "id": "80b98a8e-d40f-45b8-add0-ad246df5f937",
   "metadata": {},
   "outputs": [
    {
     "data": {
      "text/html": [
       "<div>\n",
       "<style scoped>\n",
       "    .dataframe tbody tr th:only-of-type {\n",
       "        vertical-align: middle;\n",
       "    }\n",
       "\n",
       "    .dataframe tbody tr th {\n",
       "        vertical-align: top;\n",
       "    }\n",
       "\n",
       "    .dataframe thead th {\n",
       "        text-align: right;\n",
       "    }\n",
       "</style>\n",
       "<table border=\"1\" class=\"dataframe\">\n",
       "  <thead>\n",
       "    <tr style=\"text-align: right;\">\n",
       "      <th></th>\n",
       "      <th>0</th>\n",
       "      <th>1</th>\n",
       "      <th>2</th>\n",
       "      <th>3</th>\n",
       "      <th>4</th>\n",
       "    </tr>\n",
       "  </thead>\n",
       "  <tbody>\n",
       "    <tr>\n",
       "      <th>longitude</th>\n",
       "      <td>-122.23</td>\n",
       "      <td>-122.22</td>\n",
       "      <td>-122.24</td>\n",
       "      <td>-122.25</td>\n",
       "      <td>-122.25</td>\n",
       "    </tr>\n",
       "    <tr>\n",
       "      <th>latitude</th>\n",
       "      <td>37.88</td>\n",
       "      <td>37.86</td>\n",
       "      <td>37.85</td>\n",
       "      <td>37.85</td>\n",
       "      <td>37.85</td>\n",
       "    </tr>\n",
       "    <tr>\n",
       "      <th>housing_median_age</th>\n",
       "      <td>41.0</td>\n",
       "      <td>21.0</td>\n",
       "      <td>52.0</td>\n",
       "      <td>52.0</td>\n",
       "      <td>52.0</td>\n",
       "    </tr>\n",
       "    <tr>\n",
       "      <th>total_rooms</th>\n",
       "      <td>880.0</td>\n",
       "      <td>7099.0</td>\n",
       "      <td>1467.0</td>\n",
       "      <td>1274.0</td>\n",
       "      <td>1627.0</td>\n",
       "    </tr>\n",
       "    <tr>\n",
       "      <th>total_bedrooms</th>\n",
       "      <td>129.0</td>\n",
       "      <td>1106.0</td>\n",
       "      <td>190.0</td>\n",
       "      <td>235.0</td>\n",
       "      <td>280.0</td>\n",
       "    </tr>\n",
       "    <tr>\n",
       "      <th>population</th>\n",
       "      <td>322.0</td>\n",
       "      <td>2401.0</td>\n",
       "      <td>496.0</td>\n",
       "      <td>558.0</td>\n",
       "      <td>565.0</td>\n",
       "    </tr>\n",
       "    <tr>\n",
       "      <th>households</th>\n",
       "      <td>126.0</td>\n",
       "      <td>1138.0</td>\n",
       "      <td>177.0</td>\n",
       "      <td>219.0</td>\n",
       "      <td>259.0</td>\n",
       "    </tr>\n",
       "    <tr>\n",
       "      <th>median_income</th>\n",
       "      <td>8.3252</td>\n",
       "      <td>8.3014</td>\n",
       "      <td>7.2574</td>\n",
       "      <td>5.6431</td>\n",
       "      <td>3.8462</td>\n",
       "    </tr>\n",
       "    <tr>\n",
       "      <th>median_house_value</th>\n",
       "      <td>452600.0</td>\n",
       "      <td>358500.0</td>\n",
       "      <td>352100.0</td>\n",
       "      <td>341300.0</td>\n",
       "      <td>342200.0</td>\n",
       "    </tr>\n",
       "    <tr>\n",
       "      <th>ocean_proximity</th>\n",
       "      <td>NEAR BAY</td>\n",
       "      <td>NEAR BAY</td>\n",
       "      <td>NEAR BAY</td>\n",
       "      <td>NEAR BAY</td>\n",
       "      <td>NEAR BAY</td>\n",
       "    </tr>\n",
       "  </tbody>\n",
       "</table>\n",
       "</div>"
      ],
      "text/plain": [
       "                           0         1         2         3         4\n",
       "longitude            -122.23   -122.22   -122.24   -122.25   -122.25\n",
       "latitude               37.88     37.86     37.85     37.85     37.85\n",
       "housing_median_age      41.0      21.0      52.0      52.0      52.0\n",
       "total_rooms            880.0    7099.0    1467.0    1274.0    1627.0\n",
       "total_bedrooms         129.0    1106.0     190.0     235.0     280.0\n",
       "population             322.0    2401.0     496.0     558.0     565.0\n",
       "households             126.0    1138.0     177.0     219.0     259.0\n",
       "median_income         8.3252    8.3014    7.2574    5.6431    3.8462\n",
       "median_house_value  452600.0  358500.0  352100.0  341300.0  342200.0\n",
       "ocean_proximity     NEAR BAY  NEAR BAY  NEAR BAY  NEAR BAY  NEAR BAY"
      ]
     },
     "execution_count": 2,
     "metadata": {},
     "output_type": "execute_result"
    }
   ],
   "source": [
    "ca_housing_dataset_url = 'https://raw.githubusercontent.com/alexeygrigorev/datasets/master/housing.csv'\n",
    "df = pd.read_csv(ca_housing_dataset_url)\n",
    "df.head().T"
   ]
  },
  {
   "cell_type": "code",
   "execution_count": 3,
   "id": "f25b22e4-5aee-4717-aee3-65d85e1781d0",
   "metadata": {
    "tags": []
   },
   "outputs": [
    {
     "name": "stdout",
     "output_type": "stream",
     "text": [
      "<class 'pandas.core.frame.DataFrame'>\n",
      "RangeIndex: 20640 entries, 0 to 20639\n",
      "Data columns (total 10 columns):\n",
      " #   Column              Non-Null Count  Dtype  \n",
      "---  ------              --------------  -----  \n",
      " 0   longitude           20640 non-null  float64\n",
      " 1   latitude            20640 non-null  float64\n",
      " 2   housing_median_age  20640 non-null  float64\n",
      " 3   total_rooms         20640 non-null  float64\n",
      " 4   total_bedrooms      20433 non-null  float64\n",
      " 5   population          20640 non-null  float64\n",
      " 6   households          20640 non-null  float64\n",
      " 7   median_income       20640 non-null  float64\n",
      " 8   median_house_value  20640 non-null  float64\n",
      " 9   ocean_proximity     20640 non-null  object \n",
      "dtypes: float64(9), object(1)\n",
      "memory usage: 1.6+ MB\n"
     ]
    }
   ],
   "source": [
    "df.info()"
   ]
  },
  {
   "cell_type": "code",
   "execution_count": 4,
   "id": "82df564d-0bad-4e07-a2fc-700316786785",
   "metadata": {
    "tags": []
   },
   "outputs": [
    {
     "data": {
      "text/plain": [
       "longitude               0\n",
       "latitude                0\n",
       "housing_median_age      0\n",
       "total_rooms             0\n",
       "total_bedrooms        207\n",
       "population              0\n",
       "households              0\n",
       "median_income           0\n",
       "median_house_value      0\n",
       "ocean_proximity         0\n",
       "dtype: int64"
      ]
     },
     "execution_count": 4,
     "metadata": {},
     "output_type": "execute_result"
    }
   ],
   "source": [
    "df.isnull().sum()"
   ]
  },
  {
   "cell_type": "markdown",
   "id": "7adf76e7-ca74-4c6a-8d9b-fde15d983b40",
   "metadata": {},
   "source": [
    "### Preparing the dataset\n",
    "\n",
    "For this homework, we only want to use a subset of data. This is the same subset we used in homework #2. But in contrast to homework #2 we are going to use all columns of the dataset. Do the following to prepare the data:\n",
    "\n",
    "* Keep only the records where ocean_proximity is either `'<1H OCEAN'` or `'INLAND'`.\n",
    "* Fill missing values with zeros.\n",
    "* Apply the log tranform to `median_house_value`.\n",
    "* Do train / validation / test split with 60% / 20% / 20% distribution.\n",
    "* Use the `train_test_split` function and set the random_state parameter to 1.\n",
    "* Use `DictVectorizer(sparse=True)` to turn the dataframes into matrices."
   ]
  },
  {
   "cell_type": "code",
   "execution_count": 5,
   "id": "96543e83-16e1-413d-b920-3aa69316e5bc",
   "metadata": {
    "tags": []
   },
   "outputs": [],
   "source": [
    "df = df.loc[df.ocean_proximity.isin(['<1H OCEAN', 'INLAND'])]\n",
    "df.total_bedrooms = df.total_bedrooms.fillna(0)\n",
    "df.median_house_value = np.log1p(df.median_house_value)"
   ]
  },
  {
   "cell_type": "code",
   "execution_count": 6,
   "id": "5cfb2cb8-474b-401f-a801-2a12c6e26ac0",
   "metadata": {
    "tags": []
   },
   "outputs": [],
   "source": [
    "X = df.drop('median_house_value', axis=1)\n",
    "y = df.median_house_value"
   ]
  },
  {
   "cell_type": "code",
   "execution_count": 7,
   "id": "a19bea61-edb1-4227-8cc5-6d2887daa95b",
   "metadata": {
    "tags": []
   },
   "outputs": [],
   "source": [
    "X_full_train, X_test, y_full_train, y_test = train_test_split(X, y, test_size=0.2, random_state=1)\n",
    "X_train, X_val, y_train, y_val = train_test_split(X_full_train, y_full_train, test_size=0.2, random_state=1)"
   ]
  },
  {
   "cell_type": "code",
   "execution_count": 8,
   "id": "b296d9a8-d911-4c70-afde-8eacfa343585",
   "metadata": {
    "tags": []
   },
   "outputs": [],
   "source": [
    "train_dict = X_train.to_dict(orient='records')\n",
    "val_dict = X_val.to_dict(orient='records')\n",
    "test_dict = X_test.to_dict(orient='records')\n",
    "dv = DictVectorizer(sparse=True)\n",
    "X_cat_train = dv.fit_transform(train_dict)\n",
    "# you first need to fit the arrays before you have access to the feature names\n",
    "feature_names = list(dv.get_feature_names_out())\n",
    "X_cat_val = dv.transform(val_dict)\n",
    "X_cat_test = dv.transform(test_dict)"
   ]
  },
  {
   "cell_type": "markdown",
   "id": "02abd140-c1e6-48e2-bf24-3afeb3710f91",
   "metadata": {},
   "source": [
    "### Question 1\n",
    "\n",
    "Let's train a decision tree regressor to predict the `median_house_value` variable. Train a model with `max_depth=1`. Which feature is used for splitting the data?\n",
    "\n",
    "* ocean_proximity\n",
    "* total_rooms\n",
    "* latitude\n",
    "* population"
   ]
  },
  {
   "cell_type": "code",
   "execution_count": 9,
   "id": "f10bf167-4ba5-488a-9b97-77dc4c28a028",
   "metadata": {},
   "outputs": [],
   "source": [
    "with warnings.catch_warnings():\n",
    "    warnings.simplefilter(action='ignore', category=FutureWarning)\n",
    "    dt = DecisionTreeRegressor(max_depth=1)\n",
    "    dt.fit(X_cat_train, y_train)"
   ]
  },
  {
   "cell_type": "code",
   "execution_count": 10,
   "id": "8bebbb38-d77c-40f1-8365-c29e2f985d2c",
   "metadata": {
    "tags": []
   },
   "outputs": [
    {
     "data": {
      "text/plain": [
       "[Text(0.5, 0.75, 'ocean_proximity=<1H OCEAN <= 0.5\\nsquared_error = 0.321\\nsamples = 10039\\nvalue = 12.01'),\n",
       " Text(0.25, 0.25, 'squared_error = 0.231\\nsamples = 4189\\nvalue = 11.607'),\n",
       " Text(0.75, 0.25, 'squared_error = 0.185\\nsamples = 5850\\nvalue = 12.299')]"
      ]
     },
     "execution_count": 10,
     "metadata": {},
     "output_type": "execute_result"
    },
    {
     "data": {
      "image/png": "[encoded data removed]",
      "text/plain": [
       "<Figure size 640x480 with 1 Axes>"
      ]
     },
     "metadata": {},
     "output_type": "display_data"
    }
   ],
   "source": [
    "plot_tree(dt, filled=True, rounded=True, feature_names=feature_names, fontsize=12)"
   ]
  },
  {
   "cell_type": "markdown",
   "id": "418ad4b3-372a-4c9d-8ede-c4b611e511ca",
   "metadata": {},
   "source": [
    "### Question 2\n",
    "\n",
    "Train a random forest model with these parameters:\n",
    "\n",
    "* `n_estimators=10`\n",
    "* `random_state=1`\n",
    "* `n_jobs=-1` (optional - to make training faster)\n",
    "\n",
    "What's the RMSE of this model on validation?\n",
    "\n",
    "* 0.045\n",
    "* 0.245\n",
    "* 0.545\n",
    "* 0.845"
   ]
  },
  {
   "cell_type": "code",
   "execution_count": 11,
   "id": "5d475991-3260-4bd4-ae33-ede57210ea73",
   "metadata": {
    "tags": []
   },
   "outputs": [],
   "source": [
    "with warnings.catch_warnings():\n",
    "    warnings.simplefilter(action='ignore', category=FutureWarning)\n",
    "    rf = RandomForestRegressor(n_estimators=10, n_jobs=-1, random_state=1)\n",
    "    rf.fit(X_cat_train, y_train)\n",
    "    y_pred = rf.predict(X_cat_val)\n",
    "    rmse = np.sqrt(mean_squared_error(y_val, y_pred))"
   ]
  },
  {
   "cell_type": "code",
   "execution_count": 12,
   "id": "dba18d9f-7f06-4dfb-a9c7-0808799772b9",
   "metadata": {
    "tags": []
   },
   "outputs": [
    {
     "data": {
      "text/plain": [
       "0.239"
      ]
     },
     "execution_count": 12,
     "metadata": {},
     "output_type": "execute_result"
    }
   ],
   "source": [
    "rmse.round(3)"
   ]
  },
  {
   "cell_type": "markdown",
   "id": "0418d58f-e2c6-4d81-ae3e-74d99ecd36fb",
   "metadata": {},
   "source": [
    "### Question 3\n",
    "\n",
    "Now let's experiment with the `n_estimators` parameter.\n",
    "\n",
    "* Try different values of this parameter from 10 to 200 with step 10.\n",
    "* Set `random_state` to 1.\n",
    "* Evaluate the model on the validation dataset.\n",
    "\n",
    "After which value of `n_estimators` does RMSE stop improving?\n",
    "\n",
    "* 10\n",
    "* 25\n",
    "* 50\n",
    "* 160"
   ]
  },
  {
   "cell_type": "code",
   "execution_count": 13,
   "id": "e33c84ff-4ab8-4e00-8dcc-e7fb916b978b",
   "metadata": {
    "tags": []
   },
   "outputs": [],
   "source": [
    "with warnings.catch_warnings():\n",
    "    warnings.simplefilter(action='ignore', category=FutureWarning)\n",
    "    scores_ne = []\n",
    "    for n_est in range(10, 201, 10):\n",
    "        rf = RandomForestRegressor(n_estimators=n_est, n_jobs=-1, random_state=1)\n",
    "        rf.fit(X_cat_train, y_train)\n",
    "        y_pred = rf.predict(X_cat_val)\n",
    "        scores_ne.append((n_est, np.sqrt(mean_squared_error(y_val, y_pred))))"
   ]
  },
  {
   "cell_type": "code",
   "execution_count": 25,
   "id": "c4f16a96-c208-4100-bdc9-fdf45f62ba4f",
   "metadata": {
    "tags": []
   },
   "outputs": [
    {
     "data": {
      "text/html": [
       "<div>\n",
       "<style scoped>\n",
       "    .dataframe tbody tr th:only-of-type {\n",
       "        vertical-align: middle;\n",
       "    }\n",
       "\n",
       "    .dataframe tbody tr th {\n",
       "        vertical-align: top;\n",
       "    }\n",
       "\n",
       "    .dataframe thead th {\n",
       "        text-align: right;\n",
       "    }\n",
       "</style>\n",
       "<table border=\"1\" class=\"dataframe\">\n",
       "  <thead>\n",
       "    <tr style=\"text-align: right;\">\n",
       "      <th></th>\n",
       "      <th>n_estimators</th>\n",
       "      <th>rmse</th>\n",
       "    </tr>\n",
       "  </thead>\n",
       "  <tbody>\n",
       "    <tr>\n",
       "      <th>0</th>\n",
       "      <td>120</td>\n",
       "      <td>0.228444</td>\n",
       "    </tr>\n",
       "    <tr>\n",
       "      <th>1</th>\n",
       "      <td>150</td>\n",
       "      <td>0.228468</td>\n",
       "    </tr>\n",
       "    <tr>\n",
       "      <th>2</th>\n",
       "      <td>130</td>\n",
       "      <td>0.228478</td>\n",
       "    </tr>\n",
       "    <tr>\n",
       "      <th>3</th>\n",
       "      <td>140</td>\n",
       "      <td>0.228503</td>\n",
       "    </tr>\n",
       "    <tr>\n",
       "      <th>4</th>\n",
       "      <td>170</td>\n",
       "      <td>0.228532</td>\n",
       "    </tr>\n",
       "  </tbody>\n",
       "</table>\n",
       "</div>"
      ],
      "text/plain": [
       "   n_estimators      rmse\n",
       "0           120  0.228444\n",
       "1           150  0.228468\n",
       "2           130  0.228478\n",
       "3           140  0.228503\n",
       "4           170  0.228532"
      ]
     },
     "execution_count": 25,
     "metadata": {},
     "output_type": "execute_result"
    }
   ],
   "source": [
    "scores_ne_df = pd.DataFrame(scores_ne, columns=['n_estimators', 'rmse'])\n",
    "scores_ne_df = scores_ne_df.sort_values(by='rmse', ascending=True).reset_index(drop=True)\n",
    "scores_ne_df.head()"
   ]
  },
  {
   "cell_type": "markdown",
   "id": "acc3607d-c9a3-4dc9-9f48-aa72236048c4",
   "metadata": {},
   "source": [
    "### Question 4\n",
    "\n",
    "Let's select the best `max_depth`:\n",
    "\n",
    "* Try different values of `max_depth`: [10, 15, 20, 25]\n",
    "* For each of these values, try different values of `n_estimators` from 10 till 200 (with step 10)\n",
    "* Fix the random seed: `random_state=1`\n",
    "\n",
    "What's the best `max_depth`:\n",
    "\n",
    "* 10\n",
    "* 15\n",
    "* 20\n",
    "* 25"
   ]
  },
  {
   "cell_type": "code",
   "execution_count": 15,
   "id": "40dbe1e6-6895-4a59-abee-9315c6f062f3",
   "metadata": {
    "tags": []
   },
   "outputs": [],
   "source": [
    "with warnings.catch_warnings():\n",
    "    warnings.simplefilter(action='ignore', category=FutureWarning)\n",
    "    scores_md_ne = []\n",
    "    for max_d in range(10, 26, 5):\n",
    "        for n_est in range(10, 201, 10):\n",
    "            rf = RandomForestRegressor(n_estimators=n_est, max_depth=max_d, n_jobs=-1, random_state=1)\n",
    "            rf.fit(X_cat_train, y_train)\n",
    "            y_pred = rf.predict(X_cat_val)\n",
    "            scores_md_ne.append((max_d, n_est, np.sqrt(mean_squared_error(y_val, y_pred))))"
   ]
  },
  {
   "cell_type": "code",
   "execution_count": 28,
   "id": "fa4712d5-baf7-4208-96f6-bd8e6648420c",
   "metadata": {
    "tags": []
   },
   "outputs": [
    {
     "data": {
      "text/html": [
       "<div>\n",
       "<style scoped>\n",
       "    .dataframe tbody tr th:only-of-type {\n",
       "        vertical-align: middle;\n",
       "    }\n",
       "\n",
       "    .dataframe tbody tr th {\n",
       "        vertical-align: top;\n",
       "    }\n",
       "\n",
       "    .dataframe thead th {\n",
       "        text-align: right;\n",
       "    }\n",
       "</style>\n",
       "<table border=\"1\" class=\"dataframe\">\n",
       "  <thead>\n",
       "    <tr style=\"text-align: right;\">\n",
       "      <th></th>\n",
       "      <th>max_depth</th>\n",
       "      <th>n_estimators</th>\n",
       "      <th>rmse</th>\n",
       "    </tr>\n",
       "  </thead>\n",
       "  <tbody>\n",
       "    <tr>\n",
       "      <th>0</th>\n",
       "      <td>20</td>\n",
       "      <td>120</td>\n",
       "      <td>0.228313</td>\n",
       "    </tr>\n",
       "    <tr>\n",
       "      <th>1</th>\n",
       "      <td>20</td>\n",
       "      <td>100</td>\n",
       "      <td>0.228362</td>\n",
       "    </tr>\n",
       "    <tr>\n",
       "      <th>2</th>\n",
       "      <td>25</td>\n",
       "      <td>130</td>\n",
       "      <td>0.228378</td>\n",
       "    </tr>\n",
       "    <tr>\n",
       "      <th>3</th>\n",
       "      <td>25</td>\n",
       "      <td>140</td>\n",
       "      <td>0.228391</td>\n",
       "    </tr>\n",
       "    <tr>\n",
       "      <th>4</th>\n",
       "      <td>20</td>\n",
       "      <td>130</td>\n",
       "      <td>0.228425</td>\n",
       "    </tr>\n",
       "  </tbody>\n",
       "</table>\n",
       "</div>"
      ],
      "text/plain": [
       "   max_depth  n_estimators      rmse\n",
       "0         20           120  0.228313\n",
       "1         20           100  0.228362\n",
       "2         25           130  0.228378\n",
       "3         25           140  0.228391\n",
       "4         20           130  0.228425"
      ]
     },
     "execution_count": 28,
     "metadata": {},
     "output_type": "execute_result"
    }
   ],
   "source": [
    "scores_md_ne_df = pd.DataFrame(scores_md_ne, columns=['max_depth', 'n_estimators', 'rmse'])\n",
    "scores_md_ne_df = scores_md_ne_df.sort_values(by=['rmse', 'max_depth'], ascending=True).reset_index(drop=True)\n",
    "scores_md_ne_df.head()"
   ]
  },
  {
   "cell_type": "markdown",
   "id": "8b9a6798-d02f-4249-813d-6771d27c83f2",
   "metadata": {},
   "source": [
    "### Question 5\n",
    "\n",
    "We can extract feature importance information from tree-based models.\n",
    "\n",
    "At each step of the decision tree learning algorithm, it finds the best split. When doing it, we can calculate \"gain\" - the reduction in impurity before and after the split. This gain is quite useful in understanding what are the imporatant features for tree-based models.\n",
    "\n",
    "In Scikit-Learn, tree-based models contain this information in the `feature_importances_` field.\n",
    "\n",
    "For this homework question, we'll find the most important feature:\n",
    "\n",
    "Train the model with these parametes:\n",
    " * `n_estimators=10`,\n",
    " * `max_depth=20`,\n",
    " * `random_state=1`,\n",
    " * `n_jobs=-1` (optional)\n",
    "\n",
    "Get the feature importance information from this model. What's the most important feature (among these 4)?\n",
    "\n",
    "* `total_rooms`\n",
    "* `median_income`\n",
    "* `total_bedrooms`\n",
    "* `longitude`"
   ]
  },
  {
   "cell_type": "code",
   "execution_count": 38,
   "id": "185f50c3-d74a-4adf-95c8-92c47178dcc1",
   "metadata": {
    "tags": []
   },
   "outputs": [
    {
     "data": {
      "text/html": [
       "<div>\n",
       "<style scoped>\n",
       "    .dataframe tbody tr th:only-of-type {\n",
       "        vertical-align: middle;\n",
       "    }\n",
       "\n",
       "    .dataframe tbody tr th {\n",
       "        vertical-align: top;\n",
       "    }\n",
       "\n",
       "    .dataframe thead th {\n",
       "        text-align: right;\n",
       "    }\n",
       "</style>\n",
       "<table border=\"1\" class=\"dataframe\">\n",
       "  <thead>\n",
       "    <tr style=\"text-align: right;\">\n",
       "      <th></th>\n",
       "      <th>feature_name</th>\n",
       "      <th>feature_importance_value</th>\n",
       "    </tr>\n",
       "  </thead>\n",
       "  <tbody>\n",
       "    <tr>\n",
       "      <th>0</th>\n",
       "      <td>median_income</td>\n",
       "      <td>0.334530</td>\n",
       "    </tr>\n",
       "    <tr>\n",
       "      <th>1</th>\n",
       "      <td>ocean_proximity=&lt;1H OCEAN</td>\n",
       "      <td>0.328820</td>\n",
       "    </tr>\n",
       "    <tr>\n",
       "      <th>2</th>\n",
       "      <td>latitude</td>\n",
       "      <td>0.100657</td>\n",
       "    </tr>\n",
       "    <tr>\n",
       "      <th>3</th>\n",
       "      <td>longitude</td>\n",
       "      <td>0.090933</td>\n",
       "    </tr>\n",
       "    <tr>\n",
       "      <th>4</th>\n",
       "      <td>ocean_proximity=INLAND</td>\n",
       "      <td>0.036779</td>\n",
       "    </tr>\n",
       "  </tbody>\n",
       "</table>\n",
       "</div>"
      ],
      "text/plain": [
       "                feature_name  feature_importance_value\n",
       "0              median_income                  0.334530\n",
       "1  ocean_proximity=<1H OCEAN                  0.328820\n",
       "2                   latitude                  0.100657\n",
       "3                  longitude                  0.090933\n",
       "4     ocean_proximity=INLAND                  0.036779"
      ]
     },
     "execution_count": 38,
     "metadata": {},
     "output_type": "execute_result"
    }
   ],
   "source": [
    "with warnings.catch_warnings():\n",
    "    warnings.simplefilter(action='ignore', category=FutureWarning)\n",
    "    rf = RandomForestRegressor(n_estimators=10, max_depth=20, n_jobs=-1, random_state=1)\n",
    "    rf.fit(X_cat_train, y_train)\n",
    "    feature_importances = zip(dv.get_feature_names_out(), rf.feature_importances_)\n",
    "features_df = pd.DataFrame(feature_importances, columns=['feature_name', 'feature_importance_value'])\n",
    "features_df = features_df.sort_values(by='feature_importance_value', ascending=False).reset_index(drop=True)\n",
    "features_df.head()"
   ]
  },
  {
   "cell_type": "code",
   "execution_count": null,
   "id": "bfe4dc6f-f8fc-41ef-95a8-170b3e5acb0f",
   "metadata": {},
   "outputs": [],
   "source": []
  }
 ],
 "metadata": {
  "kernelspec": {
   "display_name": "Python 3 (ipykernel)",
   "language": "python",
   "name": "python3"
  },
  "language_info": {
   "codemirror_mode": {
    "name": "ipython",
    "version": 3
   },
   "file_extension": ".py",
   "mimetype": "text/x-python",
   "name": "python",
   "nbconvert_exporter": "python",
   "pygments_lexer": "ipython3",
   "version": "3.9.18"
  }
 },
 "nbformat": 4,
 "nbformat_minor": 5
}
