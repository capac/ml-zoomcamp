{
 "cells": [
  {
   "cell_type": "code",
   "execution_count": 1,
   "id": "973f9018-38fa-4a09-9dd7-d46f2242fa2c",
   "metadata": {},
   "outputs": [],
   "source": [
    "import numpy as np\n",
    "import pandas as pd\n",
    "import matplotlib.pyplot as plt\n",
    "from sklearn.feature_extraction import DictVectorizer\n",
    "from sklearn.model_selection import train_test_split\n",
    "from sklearn.tree import DecisionTreeRegressor\n",
    "from sklearn.tree import plot_tree\n",
    "import xgboost as xgb \n",
    "%matplotlib inline"
   ]
  },
  {
   "cell_type": "code",
   "execution_count": 2,
   "id": "80b98a8e-d40f-45b8-add0-ad246df5f937",
   "metadata": {},
   "outputs": [
    {
     "data": {
      "text/html": [
       "<div>\n",
       "<style scoped>\n",
       "    .dataframe tbody tr th:only-of-type {\n",
       "        vertical-align: middle;\n",
       "    }\n",
       "\n",
       "    .dataframe tbody tr th {\n",
       "        vertical-align: top;\n",
       "    }\n",
       "\n",
       "    .dataframe thead th {\n",
       "        text-align: right;\n",
       "    }\n",
       "</style>\n",
       "<table border=\"1\" class=\"dataframe\">\n",
       "  <thead>\n",
       "    <tr style=\"text-align: right;\">\n",
       "      <th></th>\n",
       "      <th>0</th>\n",
       "      <th>1</th>\n",
       "      <th>2</th>\n",
       "      <th>3</th>\n",
       "      <th>4</th>\n",
       "    </tr>\n",
       "  </thead>\n",
       "  <tbody>\n",
       "    <tr>\n",
       "      <th>longitude</th>\n",
       "      <td>-122.23</td>\n",
       "      <td>-122.22</td>\n",
       "      <td>-122.24</td>\n",
       "      <td>-122.25</td>\n",
       "      <td>-122.25</td>\n",
       "    </tr>\n",
       "    <tr>\n",
       "      <th>latitude</th>\n",
       "      <td>37.88</td>\n",
       "      <td>37.86</td>\n",
       "      <td>37.85</td>\n",
       "      <td>37.85</td>\n",
       "      <td>37.85</td>\n",
       "    </tr>\n",
       "    <tr>\n",
       "      <th>housing_median_age</th>\n",
       "      <td>41.0</td>\n",
       "      <td>21.0</td>\n",
       "      <td>52.0</td>\n",
       "      <td>52.0</td>\n",
       "      <td>52.0</td>\n",
       "    </tr>\n",
       "    <tr>\n",
       "      <th>total_rooms</th>\n",
       "      <td>880.0</td>\n",
       "      <td>7099.0</td>\n",
       "      <td>1467.0</td>\n",
       "      <td>1274.0</td>\n",
       "      <td>1627.0</td>\n",
       "    </tr>\n",
       "    <tr>\n",
       "      <th>total_bedrooms</th>\n",
       "      <td>129.0</td>\n",
       "      <td>1106.0</td>\n",
       "      <td>190.0</td>\n",
       "      <td>235.0</td>\n",
       "      <td>280.0</td>\n",
       "    </tr>\n",
       "    <tr>\n",
       "      <th>population</th>\n",
       "      <td>322.0</td>\n",
       "      <td>2401.0</td>\n",
       "      <td>496.0</td>\n",
       "      <td>558.0</td>\n",
       "      <td>565.0</td>\n",
       "    </tr>\n",
       "    <tr>\n",
       "      <th>households</th>\n",
       "      <td>126.0</td>\n",
       "      <td>1138.0</td>\n",
       "      <td>177.0</td>\n",
       "      <td>219.0</td>\n",
       "      <td>259.0</td>\n",
       "    </tr>\n",
       "    <tr>\n",
       "      <th>median_income</th>\n",
       "      <td>8.3252</td>\n",
       "      <td>8.3014</td>\n",
       "      <td>7.2574</td>\n",
       "      <td>5.6431</td>\n",
       "      <td>3.8462</td>\n",
       "    </tr>\n",
       "    <tr>\n",
       "      <th>median_house_value</th>\n",
       "      <td>452600.0</td>\n",
       "      <td>358500.0</td>\n",
       "      <td>352100.0</td>\n",
       "      <td>341300.0</td>\n",
       "      <td>342200.0</td>\n",
       "    </tr>\n",
       "    <tr>\n",
       "      <th>ocean_proximity</th>\n",
       "      <td>NEAR BAY</td>\n",
       "      <td>NEAR BAY</td>\n",
       "      <td>NEAR BAY</td>\n",
       "      <td>NEAR BAY</td>\n",
       "      <td>NEAR BAY</td>\n",
       "    </tr>\n",
       "  </tbody>\n",
       "</table>\n",
       "</div>"
      ],
      "text/plain": [
       "                           0         1         2         3         4\n",
       "longitude            -122.23   -122.22   -122.24   -122.25   -122.25\n",
       "latitude               37.88     37.86     37.85     37.85     37.85\n",
       "housing_median_age      41.0      21.0      52.0      52.0      52.0\n",
       "total_rooms            880.0    7099.0    1467.0    1274.0    1627.0\n",
       "total_bedrooms         129.0    1106.0     190.0     235.0     280.0\n",
       "population             322.0    2401.0     496.0     558.0     565.0\n",
       "households             126.0    1138.0     177.0     219.0     259.0\n",
       "median_income         8.3252    8.3014    7.2574    5.6431    3.8462\n",
       "median_house_value  452600.0  358500.0  352100.0  341300.0  342200.0\n",
       "ocean_proximity     NEAR BAY  NEAR BAY  NEAR BAY  NEAR BAY  NEAR BAY"
      ]
     },
     "execution_count": 2,
     "metadata": {},
     "output_type": "execute_result"
    }
   ],
   "source": [
    "ca_housing_dataset_url = 'https://raw.githubusercontent.com/alexeygrigorev/datasets/master/housing.csv'\n",
    "df = pd.read_csv(ca_housing_dataset_url)\n",
    "df.head().T"
   ]
  },
  {
   "cell_type": "code",
   "execution_count": 3,
   "id": "f25b22e4-5aee-4717-aee3-65d85e1781d0",
   "metadata": {
    "tags": []
   },
   "outputs": [
    {
     "name": "stdout",
     "output_type": "stream",
     "text": [
      "<class 'pandas.core.frame.DataFrame'>\n",
      "RangeIndex: 20640 entries, 0 to 20639\n",
      "Data columns (total 10 columns):\n",
      " #   Column              Non-Null Count  Dtype  \n",
      "---  ------              --------------  -----  \n",
      " 0   longitude           20640 non-null  float64\n",
      " 1   latitude            20640 non-null  float64\n",
      " 2   housing_median_age  20640 non-null  float64\n",
      " 3   total_rooms         20640 non-null  float64\n",
      " 4   total_bedrooms      20433 non-null  float64\n",
      " 5   population          20640 non-null  float64\n",
      " 6   households          20640 non-null  float64\n",
      " 7   median_income       20640 non-null  float64\n",
      " 8   median_house_value  20640 non-null  float64\n",
      " 9   ocean_proximity     20640 non-null  object \n",
      "dtypes: float64(9), object(1)\n",
      "memory usage: 1.6+ MB\n"
     ]
    }
   ],
   "source": [
    "df.info()"
   ]
  },
  {
   "cell_type": "code",
   "execution_count": 4,
   "id": "82df564d-0bad-4e07-a2fc-700316786785",
   "metadata": {
    "tags": []
   },
   "outputs": [
    {
     "data": {
      "text/plain": [
       "longitude               0\n",
       "latitude                0\n",
       "housing_median_age      0\n",
       "total_rooms             0\n",
       "total_bedrooms        207\n",
       "population              0\n",
       "households              0\n",
       "median_income           0\n",
       "median_house_value      0\n",
       "ocean_proximity         0\n",
       "dtype: int64"
      ]
     },
     "execution_count": 4,
     "metadata": {},
     "output_type": "execute_result"
    }
   ],
   "source": [
    "df.isnull().sum()"
   ]
  },
  {
   "cell_type": "markdown",
   "id": "7adf76e7-ca74-4c6a-8d9b-fde15d983b40",
   "metadata": {},
   "source": [
    "### Preparing the dataset\n",
    "\n",
    "For this homework, we only want to use a subset of data. This is the same subset we used in homework #2. But in contrast to homework #2 we are going to use all columns of the dataset. Do the following to prepare the data:\n",
    "\n",
    "* Keep only the records where ocean_proximity is either `'<1H OCEAN'` or `'INLAND'`.\n",
    "* Fill missing values with zeros.\n",
    "* Apply the log tranform to `median_house_value`.\n",
    "* Do train / validation / test split with 60% / 20% / 20% distribution.\n",
    "* Use the `train_test_split` function and set the random_state parameter to 1.\n",
    "* Use `DictVectorizer(sparse=True)` to turn the dataframes into matrices."
   ]
  },
  {
   "cell_type": "code",
   "execution_count": 5,
   "id": "96543e83-16e1-413d-b920-3aa69316e5bc",
   "metadata": {
    "tags": []
   },
   "outputs": [],
   "source": [
    "df = df.loc[df.ocean_proximity.isin(['<1H OCEAN', 'INLAND'])]\n",
    "df.total_bedrooms = df.total_bedrooms.fillna(0)\n",
    "df.median_house_value = np.log1p(df.median_house_value)"
   ]
  },
  {
   "cell_type": "code",
   "execution_count": 6,
   "id": "5cfb2cb8-474b-401f-a801-2a12c6e26ac0",
   "metadata": {
    "tags": []
   },
   "outputs": [],
   "source": [
    "X = df.drop('median_house_value', axis=1)\n",
    "y = df.median_house_value"
   ]
  },
  {
   "cell_type": "code",
   "execution_count": 7,
   "id": "a19bea61-edb1-4227-8cc5-6d2887daa95b",
   "metadata": {
    "tags": []
   },
   "outputs": [],
   "source": [
    "X_full_train, X_test, y_full_train, y_test = train_test_split(X, y, test_size=0.2, random_state=1)\n",
    "X_train, X_val, y_train, y_val = train_test_split(X_full_train, y_full_train, test_size=0.2, random_state=1)"
   ]
  },
  {
   "cell_type": "code",
   "execution_count": 8,
   "id": "b296d9a8-d911-4c70-afde-8eacfa343585",
   "metadata": {
    "tags": []
   },
   "outputs": [],
   "source": [
    "train_dict = X_train.to_dict(orient='records')\n",
    "val_dict = X_val.to_dict(orient='records')\n",
    "test_dict = X_test.to_dict(orient='records')\n",
    "dv = DictVectorizer(sparse=True)\n",
    "X_cat_train = dv.fit_transform(train_dict)\n",
    "feature_names = dv.get_feature_names_out()\n",
    "X_cat_val = dv.transform(val_dict)\n",
    "X_cat_test = dv.transform(test_dict)"
   ]
  },
  {
   "cell_type": "markdown",
   "id": "02abd140-c1e6-48e2-bf24-3afeb3710f91",
   "metadata": {},
   "source": [
    "### Question 1\n",
    "\n",
    "Let's train a decision tree regressor to predict the `median_house_value` variable. Train a model with `max_depth=1`. Which feature is used for splitting the data?\n",
    "\n",
    "* ocean_proximity\n",
    "* total_rooms\n",
    "* latitude\n",
    "* population"
   ]
  },
  {
   "cell_type": "code",
   "execution_count": 11,
   "id": "c28f49ce-328b-4758-a059-e32bd367d702",
   "metadata": {
    "tags": []
   },
   "outputs": [],
   "source": [
    "import warnings\n",
    "warnings.simplefilter(action='ignore', category=FutureWarning)"
   ]
  },
  {
   "cell_type": "code",
   "execution_count": 13,
   "id": "f10bf167-4ba5-488a-9b97-77dc4c28a028",
   "metadata": {},
   "outputs": [
    {
     "data": {
      "image/png": "[encoded data removed]",
      "text/plain": [
       "<Figure size 640x480 with 1 Axes>"
      ]
     },
     "metadata": {},
     "output_type": "display_data"
    }
   ],
   "source": [
    "dt = DecisionTreeRegressor(max_depth=1)\n",
    "dt.fit(X_cat_train, y_train)\n",
    "plot_tree(dt, filled=True, rounded=True, feature_names=feature_names);"
   ]
  },
  {
   "cell_type": "code",
   "execution_count": null,
   "id": "8bebbb38-d77c-40f1-8365-c29e2f985d2c",
   "metadata": {},
   "outputs": [],
   "source": []
  }
 ],
 "metadata": {
  "kernelspec": {
   "display_name": "Python 3 (ipykernel)",
   "language": "python",
   "name": "python3"
  },
  "language_info": {
   "codemirror_mode": {
    "name": "ipython",
    "version": 3
   },
   "file_extension": ".py",
   "mimetype": "text/x-python",
   "name": "python",
   "nbconvert_exporter": "python",
   "pygments_lexer": "ipython3",
   "version": "3.9.18"
  }
 },
 "nbformat": 4,
 "nbformat_minor": 5
}
