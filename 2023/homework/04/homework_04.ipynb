{
 "cells": [
  {
   "cell_type": "code",
   "execution_count": 1,
   "id": "ad9cd1f6-97e2-41a5-8d61-22c0cc55963f",
   "metadata": {
    "tags": []
   },
   "outputs": [],
   "source": [
    "import numpy as np\n",
    "import pandas as pd\n",
    "import matplotlib.pyplot as plt\n",
    "%matplotlib inline"
   ]
  },
  {
   "cell_type": "markdown",
   "id": "a92f677c-d607-4945-b0cd-07f02fac994f",
   "metadata": {},
   "source": [
    "### Data preparation"
   ]
  },
  {
   "cell_type": "code",
   "execution_count": 2,
   "id": "faaef566-e66e-4248-a098-e6dbf706c3c6",
   "metadata": {},
   "outputs": [
    {
     "data": {
      "text/html": [
       "<div>\n",
       "<style scoped>\n",
       "    .dataframe tbody tr th:only-of-type {\n",
       "        vertical-align: middle;\n",
       "    }\n",
       "\n",
       "    .dataframe tbody tr th {\n",
       "        vertical-align: top;\n",
       "    }\n",
       "\n",
       "    .dataframe thead th {\n",
       "        text-align: right;\n",
       "    }\n",
       "</style>\n",
       "<table border=\"1\" class=\"dataframe\">\n",
       "  <thead>\n",
       "    <tr style=\"text-align: right;\">\n",
       "      <th></th>\n",
       "      <th>make</th>\n",
       "      <th>model</th>\n",
       "      <th>year</th>\n",
       "      <th>engine_hp</th>\n",
       "      <th>engine_cylinders</th>\n",
       "      <th>transmission_type</th>\n",
       "      <th>vehicle_style</th>\n",
       "      <th>highway_mpg</th>\n",
       "      <th>city_mpg</th>\n",
       "      <th>msrp</th>\n",
       "      <th>above_average</th>\n",
       "    </tr>\n",
       "  </thead>\n",
       "  <tbody>\n",
       "    <tr>\n",
       "      <th>0</th>\n",
       "      <td>bmw</td>\n",
       "      <td>1_series_m</td>\n",
       "      <td>2011</td>\n",
       "      <td>335.0</td>\n",
       "      <td>6.0</td>\n",
       "      <td>manual</td>\n",
       "      <td>coupe</td>\n",
       "      <td>26</td>\n",
       "      <td>19</td>\n",
       "      <td>46135</td>\n",
       "      <td>1</td>\n",
       "    </tr>\n",
       "    <tr>\n",
       "      <th>1</th>\n",
       "      <td>bmw</td>\n",
       "      <td>1_series</td>\n",
       "      <td>2011</td>\n",
       "      <td>300.0</td>\n",
       "      <td>6.0</td>\n",
       "      <td>manual</td>\n",
       "      <td>convertible</td>\n",
       "      <td>28</td>\n",
       "      <td>19</td>\n",
       "      <td>40650</td>\n",
       "      <td>1</td>\n",
       "    </tr>\n",
       "    <tr>\n",
       "      <th>2</th>\n",
       "      <td>bmw</td>\n",
       "      <td>1_series</td>\n",
       "      <td>2011</td>\n",
       "      <td>300.0</td>\n",
       "      <td>6.0</td>\n",
       "      <td>manual</td>\n",
       "      <td>coupe</td>\n",
       "      <td>28</td>\n",
       "      <td>20</td>\n",
       "      <td>36350</td>\n",
       "      <td>0</td>\n",
       "    </tr>\n",
       "    <tr>\n",
       "      <th>3</th>\n",
       "      <td>bmw</td>\n",
       "      <td>1_series</td>\n",
       "      <td>2011</td>\n",
       "      <td>230.0</td>\n",
       "      <td>6.0</td>\n",
       "      <td>manual</td>\n",
       "      <td>coupe</td>\n",
       "      <td>28</td>\n",
       "      <td>18</td>\n",
       "      <td>29450</td>\n",
       "      <td>0</td>\n",
       "    </tr>\n",
       "    <tr>\n",
       "      <th>4</th>\n",
       "      <td>bmw</td>\n",
       "      <td>1_series</td>\n",
       "      <td>2011</td>\n",
       "      <td>230.0</td>\n",
       "      <td>6.0</td>\n",
       "      <td>manual</td>\n",
       "      <td>convertible</td>\n",
       "      <td>28</td>\n",
       "      <td>18</td>\n",
       "      <td>34500</td>\n",
       "      <td>0</td>\n",
       "    </tr>\n",
       "  </tbody>\n",
       "</table>\n",
       "</div>"
      ],
      "text/plain": [
       "  make       model  year  engine_hp  engine_cylinders transmission_type  \\\n",
       "0  bmw  1_series_m  2011      335.0               6.0            manual   \n",
       "1  bmw    1_series  2011      300.0               6.0            manual   \n",
       "2  bmw    1_series  2011      300.0               6.0            manual   \n",
       "3  bmw    1_series  2011      230.0               6.0            manual   \n",
       "4  bmw    1_series  2011      230.0               6.0            manual   \n",
       "\n",
       "  vehicle_style  highway_mpg  city_mpg   msrp  above_average  \n",
       "0         coupe           26        19  46135              1  \n",
       "1   convertible           28        19  40650              1  \n",
       "2         coupe           28        20  36350              0  \n",
       "3         coupe           28        18  29450              0  \n",
       "4   convertible           28        18  34500              0  "
      ]
     },
     "execution_count": 2,
     "metadata": {},
     "output_type": "execute_result"
    }
   ],
   "source": [
    "car_price_dataset_url = 'https://raw.githubusercontent.com/alexeygrigorev/mlbookcamp-code/master/chapter-02-car-price/data.csv'\n",
    "columns = ['Make', 'Model', 'Year', 'Engine HP',\n",
    "           'Engine Cylinders', 'Transmission Type',\n",
    "           'Vehicle Style', 'highway MPG', 'city mpg', 'MSRP']\n",
    "df = pd.read_csv(car_price_dataset_url, usecols=columns)\n",
    "df.columns = df.columns.str.lower().str.replace(' ', '_')\n",
    "categorical_columns = list(df.select_dtypes('object').columns)\n",
    "df[categorical_columns] = df[categorical_columns].apply(lambda x: x.str.lower().str.replace(' ', '_'))\n",
    "df.engine_hp.fillna(0, inplace=True)\n",
    "df.engine_cylinders.fillna(0, inplace=True)\n",
    "df['above_average'] = (df.msrp > df.msrp.mean()).astype('int64')\n",
    "df.head()"
   ]
  },
  {
   "cell_type": "code",
   "execution_count": 3,
   "id": "c4d3b778-8f49-4584-a500-dba8827f6511",
   "metadata": {
    "tags": []
   },
   "outputs": [
    {
     "name": "stdout",
     "output_type": "stream",
     "text": [
      "<class 'pandas.core.frame.DataFrame'>\n",
      "RangeIndex: 11914 entries, 0 to 11913\n",
      "Data columns (total 11 columns):\n",
      " #   Column             Non-Null Count  Dtype  \n",
      "---  ------             --------------  -----  \n",
      " 0   make               11914 non-null  object \n",
      " 1   model              11914 non-null  object \n",
      " 2   year               11914 non-null  int64  \n",
      " 3   engine_hp          11914 non-null  float64\n",
      " 4   engine_cylinders   11914 non-null  float64\n",
      " 5   transmission_type  11914 non-null  object \n",
      " 6   vehicle_style      11914 non-null  object \n",
      " 7   highway_mpg        11914 non-null  int64  \n",
      " 8   city_mpg           11914 non-null  int64  \n",
      " 9   msrp               11914 non-null  int64  \n",
      " 10  above_average      11914 non-null  int64  \n",
      "dtypes: float64(2), int64(5), object(4)\n",
      "memory usage: 1024.0+ KB\n"
     ]
    }
   ],
   "source": [
    "df.info()"
   ]
  },
  {
   "cell_type": "code",
   "execution_count": 4,
   "id": "361bf574-97ea-46a8-9d3a-4991065f0af9",
   "metadata": {
    "tags": []
   },
   "outputs": [],
   "source": [
    "X = df.drop(['msrp', 'above_average'], axis=1)\n",
    "y = df.above_average"
   ]
  },
  {
   "cell_type": "markdown",
   "id": "cac1f04f-bd3e-48be-8459-ba2cfe4b79c4",
   "metadata": {},
   "source": [
    "#### Split data into training (60%), validation (20%) and testing (20%)"
   ]
  },
  {
   "cell_type": "code",
   "execution_count": 5,
   "id": "51748868-4c3a-4cbd-88bd-8958a5a2ffdc",
   "metadata": {
    "tags": []
   },
   "outputs": [],
   "source": [
    "from sklearn.model_selection import train_test_split\n",
    "X_full_train, X_test, y_full_train, y_test = train_test_split(X, y, test_size=0.2, random_state=1)\n",
    "X_train, X_val, y_train, y_val = train_test_split(X_full_train, y_full_train, test_size=0.25, random_state=1)"
   ]
  },
  {
   "cell_type": "code",
   "execution_count": 6,
   "id": "45604880-6b97-43aa-8476-cf9ceb94bdbf",
   "metadata": {
    "tags": []
   },
   "outputs": [],
   "source": [
    "X_train = X_train.reset_index(drop=True)\n",
    "y_train = y_train.reset_index(drop=True)\n",
    "X_val = X_val.reset_index(drop=True)\n",
    "y_val = y_val.reset_index(drop=True)\n",
    "X_test = X_test.reset_index(drop=True)\n",
    "y_test = y_test.reset_index(drop=True)"
   ]
  },
  {
   "cell_type": "markdown",
   "id": "fed97ebb-dd44-402a-94c4-090d2272017c",
   "metadata": {},
   "source": [
    "### Question 1: ROC AUC feature importance\n",
    "\n",
    "ROC AUC could also be used to evaluate feature importance of numerical variables. For each numerical variable, use it as score and compute AUC with the `above_average` variable. Use the training dataset for that. If your AUC is < 0.5, invert this variable by putting \"-\" in front (e.g. `-df_train['engine_hp']`). AUC can go below 0.5 if the variable is negatively correlated with the target varialble. You can change the direction of the correlation by negating this variable - then negative correlation becomes positive. Which numerical variable (among the following 4) has the highest AUC?\n",
    "\n",
    "* `engine_hp`\n",
    "* `engine_cylinders`\n",
    "* `highway_mpg`\n",
    "* `city_mpg`"
   ]
  },
  {
   "cell_type": "code",
   "execution_count": 7,
   "id": "f3c32e1d-6393-4c34-a51d-44081b09512d",
   "metadata": {
    "tags": []
   },
   "outputs": [
    {
     "data": {
      "text/html": [
       "<div>\n",
       "<style scoped>\n",
       "    .dataframe tbody tr th:only-of-type {\n",
       "        vertical-align: middle;\n",
       "    }\n",
       "\n",
       "    .dataframe tbody tr th {\n",
       "        vertical-align: top;\n",
       "    }\n",
       "\n",
       "    .dataframe thead th {\n",
       "        text-align: right;\n",
       "    }\n",
       "</style>\n",
       "<table border=\"1\" class=\"dataframe\">\n",
       "  <thead>\n",
       "    <tr style=\"text-align: right;\">\n",
       "      <th></th>\n",
       "      <th>AUC</th>\n",
       "    </tr>\n",
       "  </thead>\n",
       "  <tbody>\n",
       "    <tr>\n",
       "      <th>engine_hp</th>\n",
       "      <td>0.9171</td>\n",
       "    </tr>\n",
       "    <tr>\n",
       "      <th>engine_cylinders</th>\n",
       "      <td>0.7661</td>\n",
       "    </tr>\n",
       "    <tr>\n",
       "      <th>year</th>\n",
       "      <td>0.6876</td>\n",
       "    </tr>\n",
       "    <tr>\n",
       "      <th>city_mpg</th>\n",
       "      <td>0.6734</td>\n",
       "    </tr>\n",
       "    <tr>\n",
       "      <th>highway_mpg</th>\n",
       "      <td>0.6331</td>\n",
       "    </tr>\n",
       "  </tbody>\n",
       "</table>\n",
       "</div>"
      ],
      "text/plain": [
       "                     AUC\n",
       "engine_hp         0.9171\n",
       "engine_cylinders  0.7661\n",
       "year              0.6876\n",
       "city_mpg          0.6734\n",
       "highway_mpg       0.6331"
      ]
     },
     "execution_count": 7,
     "metadata": {},
     "output_type": "execute_result"
    }
   ],
   "source": [
    "from sklearn.metrics import roc_auc_score\n",
    "numerical_columns = ['year', 'engine_hp', 'engine_cylinders', 'highway_mpg', 'city_mpg']\n",
    "auc_scores = []\n",
    "for col in numerical_columns:\n",
    "    if col in ['highway_mpg', 'city_mpg']:\n",
    "        X_col = -X_train[col].values.reshape(-1, 1)\n",
    "    else:\n",
    "        X_col = X_train[col].values.reshape(-1, 1)\n",
    "    auc_scores.append(roc_auc_score(y_train.ravel(), X_col).round(4))\n",
    "auc_scores_df = pd.DataFrame(auc_scores, index=numerical_columns, columns=['AUC'])\n",
    "auc_scores_df.sort_values(ascending=False, by='AUC', inplace=True)\n",
    "auc_scores_df"
   ]
  },
  {
   "cell_type": "markdown",
   "id": "fc69797a-a394-4746-87d4-90beecf78229",
   "metadata": {},
   "source": [
    "### Question 2: Training the model\n",
    "\n",
    "Apply one-hot-encoding using `DictVectorizer` and train the logistic regression with these parameters: `LogisticRegression(solver='liblinear', C=1.0, max_iter=1000)`. What's the AUC of this model on the validation dataset? (round to 3 digits).\n",
    "\n",
    "* 0.678\n",
    "* 0.779\n",
    "* 0.878\n",
    "* 0.979"
   ]
  },
  {
   "cell_type": "code",
   "execution_count": 8,
   "id": "4de4fa1c-9f66-4476-92cc-ed1a1b2018af",
   "metadata": {
    "tags": []
   },
   "outputs": [],
   "source": [
    "from sklearn.linear_model import LogisticRegression\n",
    "from sklearn.feature_extraction import DictVectorizer"
   ]
  },
  {
   "cell_type": "code",
   "execution_count": 9,
   "id": "59be5d4f-1bcc-49b8-8c3e-59796dafd903",
   "metadata": {
    "tags": []
   },
   "outputs": [],
   "source": [
    "def data_transformation(X_tr, X_val):\n",
    "    X_tr_dicts = X_tr.to_dict(orient='records')\n",
    "    X_val_dicts = X_val.to_dict(orient='records')\n",
    "    dv = DictVectorizer(sparse=False)\n",
    "    X_onehot_tr = dv.fit_transform(X_tr_dicts)\n",
    "    X_onehot_val = dv.transform(X_val_dicts)\n",
    "    return X_onehot_tr, X_onehot_val"
   ]
  },
  {
   "cell_type": "code",
   "execution_count": 10,
   "id": "d5ba3ec0-b164-46fe-844f-6bfc0cc9ac23",
   "metadata": {
    "tags": []
   },
   "outputs": [],
   "source": [
    "X_onehot_train, X_onehot_val = data_transformation(X_train, X_val)"
   ]
  },
  {
   "cell_type": "code",
   "execution_count": 11,
   "id": "8393e017-815f-401f-b366-8b4ff306a138",
   "metadata": {
    "tags": []
   },
   "outputs": [
    {
     "data": {
      "text/plain": [
       "0.976"
      ]
     },
     "execution_count": 11,
     "metadata": {},
     "output_type": "execute_result"
    }
   ],
   "source": [
    "lr = LogisticRegression(solver='liblinear', C=1.0, max_iter=1000)\n",
    "lr.fit(X_onehot_train, y_train)\n",
    "y_pred = lr.predict_proba(X_onehot_val)[:, 1]\n",
    "roc_auc_score(y_val, y_pred).round(3)"
   ]
  },
  {
   "cell_type": "markdown",
   "id": "a0b991df-707a-490d-9764-470f48821cea",
   "metadata": {},
   "source": [
    "### Question 3: Precision and Recall\n",
    "\n",
    "Now let's compute precision and recall for our model. Evaluate the model on all thresholds from 0.0 to 1.0 with step 0.01. For each threshold, compute precision and recall and plot them. At which threshold do the precision and recall curves intersect?\n",
    "\n",
    "* 0.28\n",
    "* 0.48\n",
    "* 0.68\n",
    "* 0.88"
   ]
  },
  {
   "cell_type": "code",
   "execution_count": 12,
   "id": "96cddf22-6225-4813-a953-cd430c972f54",
   "metadata": {
    "tags": []
   },
   "outputs": [],
   "source": [
    "thresholds = np.linspace(0.0, 0.99, 100)\n",
    "scores = []\n",
    "for t in thresholds:\n",
    "    tp = ((y_pred >= t) == 1) & (y_val == 1)\n",
    "    fp = ((y_pred >= t) == 1) & (y_val == 0)\n",
    "    tn = ((y_pred >= t) == 0) & (y_val == 0)\n",
    "    fn = ((y_pred >= t) == 0) & (y_val == 1)\n",
    "    \n",
    "    p = tp.sum() / (tp.sum() + fp.sum())\n",
    "    r = tp.sum() / (tp.sum() + fn.sum())\n",
    "    scores.append((t, p, r, p-r))\n",
    "\n",
    "p_r_df = pd.DataFrame(scores, columns=['threshold', 'precision', 'recall', 'p_r_diff'])"
   ]
  },
  {
   "cell_type": "code",
   "execution_count": 13,
   "id": "d3d2186d-69d8-4aeb-840b-8a0752620cb2",
   "metadata": {
    "tags": []
   },
   "outputs": [
    {
     "data": {
      "image/png": "[encoded data removed]",
      "text/plain": [
       "<Figure size 640x480 with 1 Axes>"
      ]
     },
     "metadata": {},
     "output_type": "display_data"
    }
   ],
   "source": [
    "fig, ax = plt.subplots()\n",
    "ax.plot(thresholds, p_r_df.precision, color='red', label='Precision')\n",
    "ax.plot(thresholds, p_r_df.recall, color='blue', label='Recall');"
   ]
  },
  {
   "cell_type": "code",
   "execution_count": 14,
   "id": "57ed8318-c337-4b93-8f6b-2c5cd244964b",
   "metadata": {
    "tags": []
   },
   "outputs": [
    {
     "data": {
      "text/html": [
       "<div>\n",
       "<style scoped>\n",
       "    .dataframe tbody tr th:only-of-type {\n",
       "        vertical-align: middle;\n",
       "    }\n",
       "\n",
       "    .dataframe tbody tr th {\n",
       "        vertical-align: top;\n",
       "    }\n",
       "\n",
       "    .dataframe thead th {\n",
       "        text-align: right;\n",
       "    }\n",
       "</style>\n",
       "<table border=\"1\" class=\"dataframe\">\n",
       "  <thead>\n",
       "    <tr style=\"text-align: right;\">\n",
       "      <th></th>\n",
       "      <th>threshold</th>\n",
       "      <th>p_r_diff</th>\n",
       "    </tr>\n",
       "  </thead>\n",
       "  <tbody>\n",
       "    <tr>\n",
       "      <th>46</th>\n",
       "      <td>0.46</td>\n",
       "      <td>-0.013287</td>\n",
       "    </tr>\n",
       "    <tr>\n",
       "      <th>47</th>\n",
       "      <td>0.47</td>\n",
       "      <td>-0.005326</td>\n",
       "    </tr>\n",
       "    <tr>\n",
       "      <th>48</th>\n",
       "      <td>0.48</td>\n",
       "      <td>0.001339</td>\n",
       "    </tr>\n",
       "    <tr>\n",
       "      <th>49</th>\n",
       "      <td>0.49</td>\n",
       "      <td>0.006738</td>\n",
       "    </tr>\n",
       "  </tbody>\n",
       "</table>\n",
       "</div>"
      ],
      "text/plain": [
       "    threshold  p_r_diff\n",
       "46       0.46 -0.013287\n",
       "47       0.47 -0.005326\n",
       "48       0.48  0.001339\n",
       "49       0.49  0.006738"
      ]
     },
     "execution_count": 14,
     "metadata": {},
     "output_type": "execute_result"
    }
   ],
   "source": [
    "p_r_df[['threshold', 'p_r_diff']][46:50]"
   ]
  },
  {
   "cell_type": "code",
   "execution_count": null,
   "id": "31ab2645-ac7c-460f-a3d1-86024ec57626",
   "metadata": {},
   "outputs": [],
   "source": []
  }
 ],
 "metadata": {
  "kernelspec": {
   "display_name": "Python 3 (ipykernel)",
   "language": "python",
   "name": "python3"
  },
  "language_info": {
   "codemirror_mode": {
    "name": "ipython",
    "version": 3
   },
   "file_extension": ".py",
   "mimetype": "text/x-python",
   "name": "python",
   "nbconvert_exporter": "python",
   "pygments_lexer": "ipython3",
   "version": "3.9.18"
  }
 },
 "nbformat": 4,
 "nbformat_minor": 5
}
