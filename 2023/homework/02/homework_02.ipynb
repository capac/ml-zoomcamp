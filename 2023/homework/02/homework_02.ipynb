{
 "cells": [
  {
   "cell_type": "code",
   "execution_count": 1,
   "id": "4a39c8c3-21ec-4002-a8fb-f9859f820131",
   "metadata": {
    "tags": []
   },
   "outputs": [],
   "source": [
    "import numpy as np\n",
    "import pandas as pd\n",
    "import matplotlib.pyplot as plt\n",
    "%matplotlib inline"
   ]
  },
  {
   "cell_type": "markdown",
   "id": "98027529-78d6-45d5-a2cf-1b6c35cc9e3c",
   "metadata": {
    "tags": []
   },
   "source": [
    "### Dataset\n",
    "\n",
    "In this homework, we will use the California Housing Prices data set from Kaggle."
   ]
  },
  {
   "cell_type": "code",
   "execution_count": 2,
   "id": "acc60a0c-ecc9-46f8-a626-014a11d532ac",
   "metadata": {
    "tags": []
   },
   "outputs": [],
   "source": [
    "ca_housing_dataset_url = 'https://raw.githubusercontent.com/alexeygrigorev/datasets/master/housing.csv'\n",
    "df = pd.read_csv(ca_housing_dataset_url)"
   ]
  },
  {
   "cell_type": "code",
   "execution_count": 3,
   "id": "b69640be-8063-4a6a-94ad-338222852ee5",
   "metadata": {
    "tags": []
   },
   "outputs": [
    {
     "name": "stdout",
     "output_type": "stream",
     "text": [
      "<class 'pandas.core.frame.DataFrame'>\n",
      "RangeIndex: 20640 entries, 0 to 20639\n",
      "Data columns (total 10 columns):\n",
      " #   Column              Non-Null Count  Dtype  \n",
      "---  ------              --------------  -----  \n",
      " 0   longitude           20640 non-null  float64\n",
      " 1   latitude            20640 non-null  float64\n",
      " 2   housing_median_age  20640 non-null  float64\n",
      " 3   total_rooms         20640 non-null  float64\n",
      " 4   total_bedrooms      20433 non-null  float64\n",
      " 5   population          20640 non-null  float64\n",
      " 6   households          20640 non-null  float64\n",
      " 7   median_income       20640 non-null  float64\n",
      " 8   median_house_value  20640 non-null  float64\n",
      " 9   ocean_proximity     20640 non-null  object \n",
      "dtypes: float64(9), object(1)\n",
      "memory usage: 1.6+ MB\n"
     ]
    }
   ],
   "source": [
    "df.info()"
   ]
  },
  {
   "cell_type": "code",
   "execution_count": 4,
   "id": "ae10bc70-be6f-4dea-9b44-51d7b5a03d36",
   "metadata": {
    "tags": []
   },
   "outputs": [
    {
     "data": {
      "text/html": [
       "<div>\n",
       "<style scoped>\n",
       "    .dataframe tbody tr th:only-of-type {\n",
       "        vertical-align: middle;\n",
       "    }\n",
       "\n",
       "    .dataframe tbody tr th {\n",
       "        vertical-align: top;\n",
       "    }\n",
       "\n",
       "    .dataframe thead th {\n",
       "        text-align: right;\n",
       "    }\n",
       "</style>\n",
       "<table border=\"1\" class=\"dataframe\">\n",
       "  <thead>\n",
       "    <tr style=\"text-align: right;\">\n",
       "      <th></th>\n",
       "      <th>0</th>\n",
       "      <th>1</th>\n",
       "      <th>2</th>\n",
       "      <th>3</th>\n",
       "      <th>4</th>\n",
       "      <th>5</th>\n",
       "      <th>6</th>\n",
       "      <th>7</th>\n",
       "      <th>8</th>\n",
       "      <th>9</th>\n",
       "    </tr>\n",
       "  </thead>\n",
       "  <tbody>\n",
       "    <tr>\n",
       "      <th>longitude</th>\n",
       "      <td>-122.23</td>\n",
       "      <td>-122.22</td>\n",
       "      <td>-122.24</td>\n",
       "      <td>-122.25</td>\n",
       "      <td>-122.25</td>\n",
       "      <td>-122.25</td>\n",
       "      <td>-122.25</td>\n",
       "      <td>-122.25</td>\n",
       "      <td>-122.26</td>\n",
       "      <td>-122.25</td>\n",
       "    </tr>\n",
       "    <tr>\n",
       "      <th>latitude</th>\n",
       "      <td>37.88</td>\n",
       "      <td>37.86</td>\n",
       "      <td>37.85</td>\n",
       "      <td>37.85</td>\n",
       "      <td>37.85</td>\n",
       "      <td>37.85</td>\n",
       "      <td>37.84</td>\n",
       "      <td>37.84</td>\n",
       "      <td>37.84</td>\n",
       "      <td>37.84</td>\n",
       "    </tr>\n",
       "    <tr>\n",
       "      <th>housing_median_age</th>\n",
       "      <td>41.0</td>\n",
       "      <td>21.0</td>\n",
       "      <td>52.0</td>\n",
       "      <td>52.0</td>\n",
       "      <td>52.0</td>\n",
       "      <td>52.0</td>\n",
       "      <td>52.0</td>\n",
       "      <td>52.0</td>\n",
       "      <td>42.0</td>\n",
       "      <td>52.0</td>\n",
       "    </tr>\n",
       "    <tr>\n",
       "      <th>total_rooms</th>\n",
       "      <td>880.0</td>\n",
       "      <td>7099.0</td>\n",
       "      <td>1467.0</td>\n",
       "      <td>1274.0</td>\n",
       "      <td>1627.0</td>\n",
       "      <td>919.0</td>\n",
       "      <td>2535.0</td>\n",
       "      <td>3104.0</td>\n",
       "      <td>2555.0</td>\n",
       "      <td>3549.0</td>\n",
       "    </tr>\n",
       "    <tr>\n",
       "      <th>total_bedrooms</th>\n",
       "      <td>129.0</td>\n",
       "      <td>1106.0</td>\n",
       "      <td>190.0</td>\n",
       "      <td>235.0</td>\n",
       "      <td>280.0</td>\n",
       "      <td>213.0</td>\n",
       "      <td>489.0</td>\n",
       "      <td>687.0</td>\n",
       "      <td>665.0</td>\n",
       "      <td>707.0</td>\n",
       "    </tr>\n",
       "    <tr>\n",
       "      <th>population</th>\n",
       "      <td>322.0</td>\n",
       "      <td>2401.0</td>\n",
       "      <td>496.0</td>\n",
       "      <td>558.0</td>\n",
       "      <td>565.0</td>\n",
       "      <td>413.0</td>\n",
       "      <td>1094.0</td>\n",
       "      <td>1157.0</td>\n",
       "      <td>1206.0</td>\n",
       "      <td>1551.0</td>\n",
       "    </tr>\n",
       "    <tr>\n",
       "      <th>households</th>\n",
       "      <td>126.0</td>\n",
       "      <td>1138.0</td>\n",
       "      <td>177.0</td>\n",
       "      <td>219.0</td>\n",
       "      <td>259.0</td>\n",
       "      <td>193.0</td>\n",
       "      <td>514.0</td>\n",
       "      <td>647.0</td>\n",
       "      <td>595.0</td>\n",
       "      <td>714.0</td>\n",
       "    </tr>\n",
       "    <tr>\n",
       "      <th>median_income</th>\n",
       "      <td>8.3252</td>\n",
       "      <td>8.3014</td>\n",
       "      <td>7.2574</td>\n",
       "      <td>5.6431</td>\n",
       "      <td>3.8462</td>\n",
       "      <td>4.0368</td>\n",
       "      <td>3.6591</td>\n",
       "      <td>3.12</td>\n",
       "      <td>2.0804</td>\n",
       "      <td>3.6912</td>\n",
       "    </tr>\n",
       "    <tr>\n",
       "      <th>median_house_value</th>\n",
       "      <td>452600.0</td>\n",
       "      <td>358500.0</td>\n",
       "      <td>352100.0</td>\n",
       "      <td>341300.0</td>\n",
       "      <td>342200.0</td>\n",
       "      <td>269700.0</td>\n",
       "      <td>299200.0</td>\n",
       "      <td>241400.0</td>\n",
       "      <td>226700.0</td>\n",
       "      <td>261100.0</td>\n",
       "    </tr>\n",
       "    <tr>\n",
       "      <th>ocean_proximity</th>\n",
       "      <td>NEAR BAY</td>\n",
       "      <td>NEAR BAY</td>\n",
       "      <td>NEAR BAY</td>\n",
       "      <td>NEAR BAY</td>\n",
       "      <td>NEAR BAY</td>\n",
       "      <td>NEAR BAY</td>\n",
       "      <td>NEAR BAY</td>\n",
       "      <td>NEAR BAY</td>\n",
       "      <td>NEAR BAY</td>\n",
       "      <td>NEAR BAY</td>\n",
       "    </tr>\n",
       "  </tbody>\n",
       "</table>\n",
       "</div>"
      ],
      "text/plain": [
       "                           0         1         2         3         4  \\\n",
       "longitude            -122.23   -122.22   -122.24   -122.25   -122.25   \n",
       "latitude               37.88     37.86     37.85     37.85     37.85   \n",
       "housing_median_age      41.0      21.0      52.0      52.0      52.0   \n",
       "total_rooms            880.0    7099.0    1467.0    1274.0    1627.0   \n",
       "total_bedrooms         129.0    1106.0     190.0     235.0     280.0   \n",
       "population             322.0    2401.0     496.0     558.0     565.0   \n",
       "households             126.0    1138.0     177.0     219.0     259.0   \n",
       "median_income         8.3252    8.3014    7.2574    5.6431    3.8462   \n",
       "median_house_value  452600.0  358500.0  352100.0  341300.0  342200.0   \n",
       "ocean_proximity     NEAR BAY  NEAR BAY  NEAR BAY  NEAR BAY  NEAR BAY   \n",
       "\n",
       "                           5         6         7         8         9  \n",
       "longitude            -122.25   -122.25   -122.25   -122.26   -122.25  \n",
       "latitude               37.85     37.84     37.84     37.84     37.84  \n",
       "housing_median_age      52.0      52.0      52.0      42.0      52.0  \n",
       "total_rooms            919.0    2535.0    3104.0    2555.0    3549.0  \n",
       "total_bedrooms         213.0     489.0     687.0     665.0     707.0  \n",
       "population             413.0    1094.0    1157.0    1206.0    1551.0  \n",
       "households             193.0     514.0     647.0     595.0     714.0  \n",
       "median_income         4.0368    3.6591      3.12    2.0804    3.6912  \n",
       "median_house_value  269700.0  299200.0  241400.0  226700.0  261100.0  \n",
       "ocean_proximity     NEAR BAY  NEAR BAY  NEAR BAY  NEAR BAY  NEAR BAY  "
      ]
     },
     "execution_count": 4,
     "metadata": {},
     "output_type": "execute_result"
    }
   ],
   "source": [
    "df.head(n=10).T"
   ]
  },
  {
   "cell_type": "markdown",
   "id": "98725582-ef83-46ab-91eb-bcf7e6b76306",
   "metadata": {},
   "source": [
    "### Exploratory data analysis\n",
    "\n",
    "* Load the data.\n",
    "* Look at the `median_house_value` variable. Does it have a long tail?"
   ]
  },
  {
   "cell_type": "code",
   "execution_count": 5,
   "id": "2a8e9fd6-f2ca-42ad-a467-df1db2a321af",
   "metadata": {
    "tags": []
   },
   "outputs": [
    {
     "data": {
      "image/png": "[encoded data removed]",
      "text/plain": [
       "<Figure size 700x500 with 1 Axes>"
      ]
     },
     "metadata": {},
     "output_type": "display_data"
    }
   ],
   "source": [
    "fig, axis = plt.subplots(figsize=(7, 5))\n",
    "axis.hist(df.median_house_value, color='dodgerblue', edgecolor='k', alpha=0.6, bins=20)\n",
    "axis.grid(linestyle=':')\n",
    "fig.tight_layout();"
   ]
  },
  {
   "cell_type": "markdown",
   "id": "d098b803-6be1-4189-9c39-d37e63debc2c",
   "metadata": {},
   "source": [
    "### Preparing the dataset\n",
    "\n",
    "For this homework, we only want to use a subset of data. First, keep only the records where `ocean_proximity` is either `<1H OCEAN` or `INLAND`.\n",
    "\n",
    "Here are the first 8 rows of the data frame. The dataframe is rotated on its side to easily visualize the column names."
   ]
  },
  {
   "cell_type": "code",
   "execution_count": 6,
   "id": "646b1e8a-5087-4d00-a53e-82adb413c917",
   "metadata": {
    "tags": []
   },
   "outputs": [],
   "source": [
    "df = df[(df.ocean_proximity == '<1H OCEAN') | (df.ocean_proximity == 'INLAND')]"
   ]
  },
  {
   "cell_type": "code",
   "execution_count": 7,
   "id": "83955bbb-5b86-491a-9a03-4ae763a43814",
   "metadata": {
    "tags": []
   },
   "outputs": [
    {
     "data": {
      "text/html": [
       "<div>\n",
       "<style scoped>\n",
       "    .dataframe tbody tr th:only-of-type {\n",
       "        vertical-align: middle;\n",
       "    }\n",
       "\n",
       "    .dataframe tbody tr th {\n",
       "        vertical-align: top;\n",
       "    }\n",
       "\n",
       "    .dataframe thead th {\n",
       "        text-align: right;\n",
       "    }\n",
       "</style>\n",
       "<table border=\"1\" class=\"dataframe\">\n",
       "  <thead>\n",
       "    <tr style=\"text-align: right;\">\n",
       "      <th></th>\n",
       "      <th>701</th>\n",
       "      <th>830</th>\n",
       "      <th>859</th>\n",
       "      <th>860</th>\n",
       "      <th>861</th>\n",
       "      <th>862</th>\n",
       "      <th>863</th>\n",
       "      <th>870</th>\n",
       "    </tr>\n",
       "  </thead>\n",
       "  <tbody>\n",
       "    <tr>\n",
       "      <th>longitude</th>\n",
       "      <td>-121.97</td>\n",
       "      <td>-121.99</td>\n",
       "      <td>-121.97</td>\n",
       "      <td>-121.96</td>\n",
       "      <td>-121.98</td>\n",
       "      <td>-121.99</td>\n",
       "      <td>-122.0</td>\n",
       "      <td>-121.93</td>\n",
       "    </tr>\n",
       "    <tr>\n",
       "      <th>latitude</th>\n",
       "      <td>37.64</td>\n",
       "      <td>37.61</td>\n",
       "      <td>37.57</td>\n",
       "      <td>37.58</td>\n",
       "      <td>37.58</td>\n",
       "      <td>37.58</td>\n",
       "      <td>37.58</td>\n",
       "      <td>37.49</td>\n",
       "    </tr>\n",
       "    <tr>\n",
       "      <th>housing_median_age</th>\n",
       "      <td>32.0</td>\n",
       "      <td>9.0</td>\n",
       "      <td>21.0</td>\n",
       "      <td>15.0</td>\n",
       "      <td>20.0</td>\n",
       "      <td>31.0</td>\n",
       "      <td>6.0</td>\n",
       "      <td>5.0</td>\n",
       "    </tr>\n",
       "    <tr>\n",
       "      <th>total_rooms</th>\n",
       "      <td>1283.0</td>\n",
       "      <td>3666.0</td>\n",
       "      <td>4342.0</td>\n",
       "      <td>3575.0</td>\n",
       "      <td>4126.0</td>\n",
       "      <td>2878.0</td>\n",
       "      <td>4405.0</td>\n",
       "      <td>1150.0</td>\n",
       "    </tr>\n",
       "    <tr>\n",
       "      <th>total_bedrooms</th>\n",
       "      <td>194.0</td>\n",
       "      <td>711.0</td>\n",
       "      <td>783.0</td>\n",
       "      <td>597.0</td>\n",
       "      <td>1031.0</td>\n",
       "      <td>478.0</td>\n",
       "      <td>717.0</td>\n",
       "      <td>311.0</td>\n",
       "    </tr>\n",
       "    <tr>\n",
       "      <th>population</th>\n",
       "      <td>485.0</td>\n",
       "      <td>2341.0</td>\n",
       "      <td>2172.0</td>\n",
       "      <td>1777.0</td>\n",
       "      <td>2079.0</td>\n",
       "      <td>1276.0</td>\n",
       "      <td>2071.0</td>\n",
       "      <td>648.0</td>\n",
       "    </tr>\n",
       "    <tr>\n",
       "      <th>households</th>\n",
       "      <td>171.0</td>\n",
       "      <td>703.0</td>\n",
       "      <td>789.0</td>\n",
       "      <td>559.0</td>\n",
       "      <td>975.0</td>\n",
       "      <td>485.0</td>\n",
       "      <td>688.0</td>\n",
       "      <td>245.0</td>\n",
       "    </tr>\n",
       "    <tr>\n",
       "      <th>median_income</th>\n",
       "      <td>6.0574</td>\n",
       "      <td>4.6458</td>\n",
       "      <td>4.6146</td>\n",
       "      <td>5.7192</td>\n",
       "      <td>3.6832</td>\n",
       "      <td>6.2073</td>\n",
       "      <td>5.8151</td>\n",
       "      <td>3.5714</td>\n",
       "    </tr>\n",
       "    <tr>\n",
       "      <th>median_house_value</th>\n",
       "      <td>431000.0</td>\n",
       "      <td>217000.0</td>\n",
       "      <td>247600.0</td>\n",
       "      <td>283500.0</td>\n",
       "      <td>216900.0</td>\n",
       "      <td>282500.0</td>\n",
       "      <td>295600.0</td>\n",
       "      <td>300000.0</td>\n",
       "    </tr>\n",
       "    <tr>\n",
       "      <th>ocean_proximity</th>\n",
       "      <td>&lt;1H OCEAN</td>\n",
       "      <td>&lt;1H OCEAN</td>\n",
       "      <td>&lt;1H OCEAN</td>\n",
       "      <td>&lt;1H OCEAN</td>\n",
       "      <td>&lt;1H OCEAN</td>\n",
       "      <td>&lt;1H OCEAN</td>\n",
       "      <td>&lt;1H OCEAN</td>\n",
       "      <td>&lt;1H OCEAN</td>\n",
       "    </tr>\n",
       "  </tbody>\n",
       "</table>\n",
       "</div>"
      ],
      "text/plain": [
       "                          701        830        859        860        861  \\\n",
       "longitude             -121.97    -121.99    -121.97    -121.96    -121.98   \n",
       "latitude                37.64      37.61      37.57      37.58      37.58   \n",
       "housing_median_age       32.0        9.0       21.0       15.0       20.0   \n",
       "total_rooms            1283.0     3666.0     4342.0     3575.0     4126.0   \n",
       "total_bedrooms          194.0      711.0      783.0      597.0     1031.0   \n",
       "population              485.0     2341.0     2172.0     1777.0     2079.0   \n",
       "households              171.0      703.0      789.0      559.0      975.0   \n",
       "median_income          6.0574     4.6458     4.6146     5.7192     3.6832   \n",
       "median_house_value   431000.0   217000.0   247600.0   283500.0   216900.0   \n",
       "ocean_proximity     <1H OCEAN  <1H OCEAN  <1H OCEAN  <1H OCEAN  <1H OCEAN   \n",
       "\n",
       "                          862        863        870  \n",
       "longitude             -121.99     -122.0    -121.93  \n",
       "latitude                37.58      37.58      37.49  \n",
       "housing_median_age       31.0        6.0        5.0  \n",
       "total_rooms            2878.0     4405.0     1150.0  \n",
       "total_bedrooms          478.0      717.0      311.0  \n",
       "population             1276.0     2071.0      648.0  \n",
       "households              485.0      688.0      245.0  \n",
       "median_income          6.2073     5.8151     3.5714  \n",
       "median_house_value   282500.0   295600.0   300000.0  \n",
       "ocean_proximity     <1H OCEAN  <1H OCEAN  <1H OCEAN  "
      ]
     },
     "execution_count": 7,
     "metadata": {},
     "output_type": "execute_result"
    }
   ],
   "source": [
    "df.head(8).T"
   ]
  },
  {
   "cell_type": "markdown",
   "id": "bcc548d5-d6a2-417f-a8d1-894a9937a567",
   "metadata": {},
   "source": [
    "Here are the last 8 rows of the data frame."
   ]
  },
  {
   "cell_type": "code",
   "execution_count": 8,
   "id": "fd0f1815-c7f9-405f-9a0e-dba149b0decb",
   "metadata": {
    "tags": []
   },
   "outputs": [
    {
     "data": {
      "text/html": [
       "<div>\n",
       "<style scoped>\n",
       "    .dataframe tbody tr th:only-of-type {\n",
       "        vertical-align: middle;\n",
       "    }\n",
       "\n",
       "    .dataframe tbody tr th {\n",
       "        vertical-align: top;\n",
       "    }\n",
       "\n",
       "    .dataframe thead th {\n",
       "        text-align: right;\n",
       "    }\n",
       "</style>\n",
       "<table border=\"1\" class=\"dataframe\">\n",
       "  <thead>\n",
       "    <tr style=\"text-align: right;\">\n",
       "      <th></th>\n",
       "      <th>20632</th>\n",
       "      <th>20633</th>\n",
       "      <th>20634</th>\n",
       "      <th>20635</th>\n",
       "      <th>20636</th>\n",
       "      <th>20637</th>\n",
       "      <th>20638</th>\n",
       "      <th>20639</th>\n",
       "    </tr>\n",
       "  </thead>\n",
       "  <tbody>\n",
       "    <tr>\n",
       "      <th>longitude</th>\n",
       "      <td>-121.45</td>\n",
       "      <td>-121.53</td>\n",
       "      <td>-121.56</td>\n",
       "      <td>-121.09</td>\n",
       "      <td>-121.21</td>\n",
       "      <td>-121.22</td>\n",
       "      <td>-121.32</td>\n",
       "      <td>-121.24</td>\n",
       "    </tr>\n",
       "    <tr>\n",
       "      <th>latitude</th>\n",
       "      <td>39.26</td>\n",
       "      <td>39.19</td>\n",
       "      <td>39.27</td>\n",
       "      <td>39.48</td>\n",
       "      <td>39.49</td>\n",
       "      <td>39.43</td>\n",
       "      <td>39.43</td>\n",
       "      <td>39.37</td>\n",
       "    </tr>\n",
       "    <tr>\n",
       "      <th>housing_median_age</th>\n",
       "      <td>15.0</td>\n",
       "      <td>27.0</td>\n",
       "      <td>28.0</td>\n",
       "      <td>25.0</td>\n",
       "      <td>18.0</td>\n",
       "      <td>17.0</td>\n",
       "      <td>18.0</td>\n",
       "      <td>16.0</td>\n",
       "    </tr>\n",
       "    <tr>\n",
       "      <th>total_rooms</th>\n",
       "      <td>2319.0</td>\n",
       "      <td>2080.0</td>\n",
       "      <td>2332.0</td>\n",
       "      <td>1665.0</td>\n",
       "      <td>697.0</td>\n",
       "      <td>2254.0</td>\n",
       "      <td>1860.0</td>\n",
       "      <td>2785.0</td>\n",
       "    </tr>\n",
       "    <tr>\n",
       "      <th>total_bedrooms</th>\n",
       "      <td>416.0</td>\n",
       "      <td>412.0</td>\n",
       "      <td>395.0</td>\n",
       "      <td>374.0</td>\n",
       "      <td>150.0</td>\n",
       "      <td>485.0</td>\n",
       "      <td>409.0</td>\n",
       "      <td>616.0</td>\n",
       "    </tr>\n",
       "    <tr>\n",
       "      <th>population</th>\n",
       "      <td>1047.0</td>\n",
       "      <td>1082.0</td>\n",
       "      <td>1041.0</td>\n",
       "      <td>845.0</td>\n",
       "      <td>356.0</td>\n",
       "      <td>1007.0</td>\n",
       "      <td>741.0</td>\n",
       "      <td>1387.0</td>\n",
       "    </tr>\n",
       "    <tr>\n",
       "      <th>households</th>\n",
       "      <td>385.0</td>\n",
       "      <td>382.0</td>\n",
       "      <td>344.0</td>\n",
       "      <td>330.0</td>\n",
       "      <td>114.0</td>\n",
       "      <td>433.0</td>\n",
       "      <td>349.0</td>\n",
       "      <td>530.0</td>\n",
       "    </tr>\n",
       "    <tr>\n",
       "      <th>median_income</th>\n",
       "      <td>3.125</td>\n",
       "      <td>2.5495</td>\n",
       "      <td>3.7125</td>\n",
       "      <td>1.5603</td>\n",
       "      <td>2.5568</td>\n",
       "      <td>1.7</td>\n",
       "      <td>1.8672</td>\n",
       "      <td>2.3886</td>\n",
       "    </tr>\n",
       "    <tr>\n",
       "      <th>median_house_value</th>\n",
       "      <td>115600.0</td>\n",
       "      <td>98300.0</td>\n",
       "      <td>116800.0</td>\n",
       "      <td>78100.0</td>\n",
       "      <td>77100.0</td>\n",
       "      <td>92300.0</td>\n",
       "      <td>84700.0</td>\n",
       "      <td>89400.0</td>\n",
       "    </tr>\n",
       "    <tr>\n",
       "      <th>ocean_proximity</th>\n",
       "      <td>INLAND</td>\n",
       "      <td>INLAND</td>\n",
       "      <td>INLAND</td>\n",
       "      <td>INLAND</td>\n",
       "      <td>INLAND</td>\n",
       "      <td>INLAND</td>\n",
       "      <td>INLAND</td>\n",
       "      <td>INLAND</td>\n",
       "    </tr>\n",
       "  </tbody>\n",
       "</table>\n",
       "</div>"
      ],
      "text/plain": [
       "                       20632    20633     20634    20635    20636    20637  \\\n",
       "longitude            -121.45  -121.53   -121.56  -121.09  -121.21  -121.22   \n",
       "latitude               39.26    39.19     39.27    39.48    39.49    39.43   \n",
       "housing_median_age      15.0     27.0      28.0     25.0     18.0     17.0   \n",
       "total_rooms           2319.0   2080.0    2332.0   1665.0    697.0   2254.0   \n",
       "total_bedrooms         416.0    412.0     395.0    374.0    150.0    485.0   \n",
       "population            1047.0   1082.0    1041.0    845.0    356.0   1007.0   \n",
       "households             385.0    382.0     344.0    330.0    114.0    433.0   \n",
       "median_income          3.125   2.5495    3.7125   1.5603   2.5568      1.7   \n",
       "median_house_value  115600.0  98300.0  116800.0  78100.0  77100.0  92300.0   \n",
       "ocean_proximity       INLAND   INLAND    INLAND   INLAND   INLAND   INLAND   \n",
       "\n",
       "                      20638    20639  \n",
       "longitude           -121.32  -121.24  \n",
       "latitude              39.43    39.37  \n",
       "housing_median_age     18.0     16.0  \n",
       "total_rooms          1860.0   2785.0  \n",
       "total_bedrooms        409.0    616.0  \n",
       "population            741.0   1387.0  \n",
       "households            349.0    530.0  \n",
       "median_income        1.8672   2.3886  \n",
       "median_house_value  84700.0  89400.0  \n",
       "ocean_proximity      INLAND   INLAND  "
      ]
     },
     "execution_count": 8,
     "metadata": {},
     "output_type": "execute_result"
    }
   ],
   "source": [
    "df.tail(8).T"
   ]
  },
  {
   "cell_type": "markdown",
   "id": "f2caf43e-f498-4209-899b-97648133606a",
   "metadata": {},
   "source": [
    "Only use the following columns: `latitude`, `longitude`, `housing_median_age`, `total_rooms`, `total_bedrooms`, `population`, `households`, `median_income`, `median_house_value`. These columns are of dtype _float64_."
   ]
  },
  {
   "cell_type": "code",
   "execution_count": 9,
   "id": "fddb5a3a-ddbe-479c-9adf-9941dabb8a18",
   "metadata": {
    "tags": []
   },
   "outputs": [],
   "source": [
    "num_cols = df.select_dtypes('float64').columns"
   ]
  },
  {
   "cell_type": "code",
   "execution_count": 10,
   "id": "60487fc8-b7ed-4737-85ce-1f422d9dcc5a",
   "metadata": {},
   "outputs": [],
   "source": [
    "df = df[num_cols]"
   ]
  },
  {
   "cell_type": "markdown",
   "id": "705c9062-8305-45ed-928c-61ef70a64406",
   "metadata": {},
   "source": [
    "### Question 1\n",
    "\n",
    "There's one feature with missing values. What is it?"
   ]
  },
  {
   "cell_type": "code",
   "execution_count": 11,
   "id": "795d0701-0086-4572-9ce2-aab4e6e42533",
   "metadata": {
    "tags": []
   },
   "outputs": [
    {
     "data": {
      "text/plain": [
       "longitude               0\n",
       "latitude                0\n",
       "housing_median_age      0\n",
       "total_rooms             0\n",
       "total_bedrooms        157\n",
       "population              0\n",
       "households              0\n",
       "median_income           0\n",
       "median_house_value      0\n",
       "dtype: int64"
      ]
     },
     "execution_count": 11,
     "metadata": {},
     "output_type": "execute_result"
    }
   ],
   "source": [
    "df.isnull().sum()"
   ]
  },
  {
   "cell_type": "markdown",
   "id": "669a3957-ee33-425f-8c2b-eeb04d968493",
   "metadata": {},
   "source": [
    "### Question 2\n",
    "\n",
    "What's the median (50% percentile) for variable `population`?"
   ]
  },
  {
   "cell_type": "code",
   "execution_count": 12,
   "id": "25d447f6-4712-4d35-a65c-ffb67e9491b6",
   "metadata": {
    "tags": []
   },
   "outputs": [
    {
     "data": {
      "text/plain": [
       "1195.0"
      ]
     },
     "execution_count": 12,
     "metadata": {},
     "output_type": "execute_result"
    }
   ],
   "source": [
    "df.population.median()"
   ]
  },
  {
   "cell_type": "markdown",
   "id": "b968b6de-d6e0-4e82-9abf-a29f72a97682",
   "metadata": {},
   "source": [
    "### Prepare and split the dataset\n",
    "\n",
    "* Shuffle the initial dataset, use seed `42`.\n",
    "* Split your data in _train_ / _val_ / _test_ sets, with 60% / 20% / 20% distribution.\n",
    "* Apply the log transformation to the `median_house_value` variable using the `np.log1p()` function.\n"
   ]
  },
  {
   "cell_type": "code",
   "execution_count": 13,
   "id": "5ddfb5ea-1e81-4832-9202-f7d1b5ffdbec",
   "metadata": {
    "tags": []
   },
   "outputs": [],
   "source": [
    "X_full, y_full = df.drop('median_house_value', axis=1), df.median_house_value\n",
    "y_full = np.log1p(y_full)"
   ]
  },
  {
   "cell_type": "code",
   "execution_count": 14,
   "id": "2551696f-cffc-422d-8914-c86539fdbaf8",
   "metadata": {
    "tags": []
   },
   "outputs": [],
   "source": [
    "def split_train_val_test(X, y, size):\n",
    "    n = X.shape[0]\n",
    "    num_val = int(n * size)\n",
    "    num_test = int(n * size)\n",
    "    num_train = n - num_val - num_test\n",
    "    np.random.seed(42)\n",
    "    idx = np.arange(n)\n",
    "    np.random.shuffle(idx)\n",
    "    X_train, y_train = X.iloc[idx[:num_train]], y.iloc[idx[:num_train]]\n",
    "    X_val, y_val = X.iloc[idx[num_train:num_train+num_val]], y.iloc[idx[num_train:num_train+num_val]]\n",
    "    X_test, y_test = X.iloc[idx[num_train+num_val:]], y.iloc[idx[num_train+num_val:]]\n",
    "    return X_train, y_train, X_val, y_val, X_test, y_test"
   ]
  },
  {
   "cell_type": "code",
   "execution_count": 15,
   "id": "40b0159e-3e87-4087-8d4f-e09ec3375d1c",
   "metadata": {
    "tags": []
   },
   "outputs": [],
   "source": [
    "def train_linear_regression(X, y):\n",
    "    ones = np.ones(X.shape[0])\n",
    "    X = np.column_stack([ones, X])\n",
    "    X_inv = np.linalg.inv(np.dot(X.T, X))\n",
    "    w = np.dot(np.dot(X_inv, X.T), y)\n",
    "    return w[0], w[1:]"
   ]
  },
  {
   "cell_type": "code",
   "execution_count": 16,
   "id": "0bca5c39-b3ce-4180-a035-4d3b6f670493",
   "metadata": {
    "tags": []
   },
   "outputs": [],
   "source": [
    "def X_fillna_with_val(X, column, value):\n",
    "    X = X.copy()\n",
    "    X[column] = X[column].fillna(value)\n",
    "    return X"
   ]
  },
  {
   "cell_type": "code",
   "execution_count": 17,
   "id": "976f8d75-44fd-4559-a2a1-1eba95dc434e",
   "metadata": {
    "tags": []
   },
   "outputs": [],
   "source": [
    "def rmse(y, y0):\n",
    "    return round(np.sqrt(((y - y0) ** 2).mean()), 2)"
   ]
  },
  {
   "cell_type": "code",
   "execution_count": 18,
   "id": "8734163c-0cbb-49b7-9515-1030d3afd919",
   "metadata": {
    "tags": []
   },
   "outputs": [],
   "source": [
    "def calculate_rmse(X, y):\n",
    "    w0, w = train_linear_regression(X, y)\n",
    "    y_pred = w0 + X.dot(w)\n",
    "    return y_pred, rmse(y_pred, y)"
   ]
  },
  {
   "cell_type": "markdown",
   "id": "827992b0-9782-4ad9-a181-e55a8205b3aa",
   "metadata": {},
   "source": [
    "### Question 3\n",
    "\n",
    "* We need to deal with missing values for the column from Q1.\n",
    "* We have two options: fill it with 0 or with the mean of this variable.\n",
    "* Try both options. For each, train a linear regression model without regularization using the code from the lessons.\n",
    "* For computing the mean, use the training only!\n",
    "* Use the validation dataset to evaluate the models and compare the RMSE of each option.\n",
    "* Round the RMSE scores to 2 decimal digits using `round(score, 2)`.\n",
    "* Which option gives better RMSE?"
   ]
  },
  {
   "cell_type": "markdown",
   "id": "8f42b767-a68d-4e74-97af-e328479d8640",
   "metadata": {},
   "source": [
    "#### First option: fill with 0"
   ]
  },
  {
   "cell_type": "code",
   "execution_count": 19,
   "id": "1d9580ab-f96a-4229-bacc-e3acd46bf4d8",
   "metadata": {
    "tags": []
   },
   "outputs": [],
   "source": [
    "X_full_0 = X_fillna_with_val(X_full, 'total_bedrooms', 0)"
   ]
  },
  {
   "cell_type": "code",
   "execution_count": 20,
   "id": "b35f35a4-2a96-4aff-aba8-1faaad08321a",
   "metadata": {
    "tags": []
   },
   "outputs": [
    {
     "data": {
      "text/plain": [
       "0.34"
      ]
     },
     "execution_count": 20,
     "metadata": {},
     "output_type": "execute_result"
    }
   ],
   "source": [
    "y_pred_0, rmse_0 = calculate_rmse(X_full_0, y_full)\n",
    "rmse_0"
   ]
  },
  {
   "cell_type": "markdown",
   "id": "8e2a2ad6-2b65-44d2-b24f-767cd2ad00d6",
   "metadata": {},
   "source": [
    "#### Second option: fill with mean (use only training data)"
   ]
  },
  {
   "cell_type": "code",
   "execution_count": 21,
   "id": "01a2ba48-59f4-4b82-a559-1b84156f2756",
   "metadata": {
    "tags": []
   },
   "outputs": [],
   "source": [
    "mean_bedroom = X_full.total_bedrooms.mean()\n",
    "X_full_mean = X_fillna_with_val(X_full, 'total_bedrooms', mean_bedroom)"
   ]
  },
  {
   "cell_type": "code",
   "execution_count": 22,
   "id": "81dbe120-c06b-407d-b0fd-b11b7f7ab73f",
   "metadata": {
    "tags": []
   },
   "outputs": [],
   "source": [
    "X_train, y_train, X_val, y_val, X_test, y_test = split_train_val_test(X_full_mean, y_full, 0.2)"
   ]
  },
  {
   "cell_type": "code",
   "execution_count": 23,
   "id": "9cf01417-4bc1-4d59-8898-4bc53218fc9a",
   "metadata": {
    "tags": []
   },
   "outputs": [
    {
     "data": {
      "text/plain": [
       "0.34"
      ]
     },
     "execution_count": 23,
     "metadata": {},
     "output_type": "execute_result"
    }
   ],
   "source": [
    "y_pred_mean, rmse_mean = calculate_rmse(X_train, y_train)\n",
    "rmse_mean"
   ]
  },
  {
   "cell_type": "markdown",
   "id": "871f6e86-81ad-4af3-b1a1-039c09512c87",
   "metadata": {},
   "source": [
    "### Question 4\n",
    "\n",
    "* Now let's train a regularized linear regression.\n",
    "* For this question, fill the NAs with 0.\n",
    "* Try different values of `r` from this list: `[0, 0.000001, 0.0001, 0.001, 0.01, 0.1, 1, 5, 10]`.\n",
    "* Use RMSE to evaluate the model on the validation dataset.\n",
    "* Round the RMSE scores to 2 decimal digits.\n",
    "* Which `r` gives the best RMSE?\n",
    "\n",
    "If there are multiple options, select the smallest `r`.\n",
    "\n",
    "#### Options:\n",
    "\n",
    "* 0\n",
    "* 0.000001\n",
    "* 0.001\n",
    "* 0.0001"
   ]
  },
  {
   "cell_type": "code",
   "execution_count": null,
   "id": "1c5b335d-a664-452b-8811-2e1b0305f335",
   "metadata": {},
   "outputs": [],
   "source": []
  }
 ],
 "metadata": {
  "kernelspec": {
   "display_name": "Python 3 (ipykernel)",
   "language": "python",
   "name": "python3"
  },
  "language_info": {
   "codemirror_mode": {
    "name": "ipython",
    "version": 3
   },
   "file_extension": ".py",
   "mimetype": "text/x-python",
   "name": "python",
   "nbconvert_exporter": "python",
   "pygments_lexer": "ipython3",
   "version": "3.9.18"
  }
 },
 "nbformat": 4,
 "nbformat_minor": 5
}
