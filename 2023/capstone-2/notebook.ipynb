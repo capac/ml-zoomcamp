{
 "cells": [
  {
   "cell_type": "markdown",
   "id": "94e6eaaf-92e0-4ab8-896c-a54f5abe177c",
   "metadata": {},
   "source": [
    "# ML Zoomcamp 2023 – Second Capstone Project\n",
    "\n",
    "[Stanford Dogs Dataset](http://vision.stanford.edu/aditya86/ImageNetDogs)"
   ]
  },
  {
   "cell_type": "code",
   "execution_count": 2,
   "id": "a947ac4f-6416-4176-9c89-553c08887c73",
   "metadata": {},
   "outputs": [],
   "source": [
    "import numpy as np\n",
    "import os, PIL\n",
    "from PIL import Image\n",
    "import tensorflow as tf"
   ]
  },
  {
   "cell_type": "code",
   "execution_count": null,
   "id": "24278a8a-8e17-437a-b369-ffc88eb204a8",
   "metadata": {},
   "outputs": [],
   "source": []
  }
 ],
 "metadata": {
  "kernelspec": {
   "display_name": "Python 3 (ipykernel)",
   "language": "python",
   "name": "python3"
  },
  "language_info": {
   "codemirror_mode": {
    "name": "ipython",
    "version": 3
   },
   "file_extension": ".py",
   "mimetype": "text/x-python",
   "name": "python",
   "nbconvert_exporter": "python",
   "pygments_lexer": "ipython3",
   "version": "3.9.18"
  }
 },
 "nbformat": 4,
 "nbformat_minor": 5
}
