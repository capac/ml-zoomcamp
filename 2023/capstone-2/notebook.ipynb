{
 "cells": [
  {
   "cell_type": "markdown",
   "id": "94e6eaaf-92e0-4ab8-896c-a54f5abe177c",
   "metadata": {},
   "source": [
    "# ML Zoomcamp 2023 – Second Capstone Project\n",
    "\n",
    "[Stanford Dogs Dataset](http://vision.stanford.edu/aditya86/ImageNetDogs)"
   ]
  },
  {
   "cell_type": "code",
   "execution_count": 1,
   "id": "a947ac4f-6416-4176-9c89-553c08887c73",
   "metadata": {},
   "outputs": [],
   "source": [
    "import os\n",
    "import re\n",
    "from pathlib import Path\n",
    "import xml.etree.ElementTree as ET\n",
    "from skimage.io import imread\n",
    "from skimage.transform import resize\n",
    "from PIL import Image\n",
    "from sklearn.model_selection import train_test_split\n",
    "from time import time"
   ]
  },
  {
   "cell_type": "code",
   "execution_count": 2,
   "id": "d495051d-5a06-4a03-860c-7bff1098953e",
   "metadata": {},
   "outputs": [],
   "source": [
    "images_dir = 'data/raw/Images'\n",
    "annotation_dir = 'data/raw/Annotation'\n",
    "processed_dir = 'data/processed/'\n",
    "img_size = 300"
   ]
  },
  {
   "cell_type": "code",
   "execution_count": 3,
   "id": "b2520415-d651-49b5-ab49-e3a85671d0b7",
   "metadata": {},
   "outputs": [],
   "source": [
    "breed_dir_list = [name for name in os.listdir(images_dir) if name not in ['.DS_Store']]\n",
    "numeric_label_dict = {}\n",
    "for index, breed_dir in enumerate(breed_dir_list):\n",
    "    numeric_label_dict[breed_dir] = index"
   ]
  },
  {
   "cell_type": "code",
   "execution_count": 4,
   "id": "cac7b22c-5d44-4f86-adea-99d6ae3f240f",
   "metadata": {},
   "outputs": [],
   "source": [
    "fullname_label_dict = {}\n",
    "breed_num_dict = {}\n",
    "for breed_dir in breed_dir_list:\n",
    "    breed_name = re.sub(r'(n[0-9]+)-(\\w+\\-?\\_?)', r'\\2', breed_dir)\n",
    "    breed_name = re.sub(r'-', r'_', breed_name.lower())\n",
    "    fullname_label_dict[breed_dir] = breed_name\n",
    "    full_breed_dir = Path.cwd() / images_dir / breed_dir\n",
    "    breed_num_dict[breed_name] = len(list(full_breed_dir.glob('**/*.jpg')))"
   ]
  },
  {
   "cell_type": "markdown",
   "id": "fdd924bb-fec6-4220-96fa-a26108e1876c",
   "metadata": {},
   "source": [
    "## Data preparation"
   ]
  },
  {
   "cell_type": "code",
   "execution_count": 5,
   "id": "28c61419-0403-4807-b08e-a463d113d559",
   "metadata": {},
   "outputs": [
    {
     "name": "stdout",
     "output_type": "stream",
     "text": [
      "Folder data/processed/ already exists.\n"
     ]
    }
   ],
   "source": [
    "# modified from https://www.kaggle.com/code/hengzheng/dog-breeds-classifier/notebook\n",
    "if not Path(processed_dir).exists():\n",
    "    Path.mkdir(Path.cwd() / processed_dir, exist_ok=True)\n",
    "    for breed_dir in breed_dir_list:\n",
    "        Path.mkdir(Path.cwd() / processed_dir / breed_dir, exist_ok=True)\n",
    "    print(f'''Created {len(os.listdir(processed_dir))} folders to store cropped images of the different breeds.''')\n",
    "else:\n",
    "    print(f'Folder {processed_dir} already exists.')"
   ]
  },
  {
   "cell_type": "code",
   "execution_count": 6,
   "id": "61b87cba-c970-467f-aa7e-4c56be2f711c",
   "metadata": {},
   "outputs": [
    {
     "name": "stdout",
     "output_type": "stream",
     "text": [
      "Saving 300x300 image sizes.\n",
      "Folder data/processed/ with cropped images already exists.\n"
     ]
    }
   ],
   "source": [
    "t0 = time()\n",
    "print(f'Saving {img_size}x{img_size} image sizes.')\n",
    "if not list(Path(processed_dir).glob('**/*.jpg')):\n",
    "    for breed_dir in os.listdir(processed_dir):\n",
    "        counter = 0\n",
    "        for breed_file in os.listdir(f'{annotation_dir}/{breed_dir}'):\n",
    "            img = Image.open(f'{images_dir}/{breed_dir}/{breed_file}.jpg')\n",
    "            tree = ET.parse(f'{annotation_dir}/{breed_dir}/{breed_file}')\n",
    "            xmin = int(tree.getroot().findall('object')[0].find('bndbox').find('xmin').text)\n",
    "            xmax = int(tree.getroot().findall('object')[0].find('bndbox').find('xmax').text)\n",
    "            ymin = int(tree.getroot().findall('object')[0].find('bndbox').find('ymin').text)\n",
    "            ymax = int(tree.getroot().findall('object')[0].find('bndbox').find('ymax').text)\n",
    "            img = img.crop((xmin, ymin, xmax, ymax))\n",
    "            img = img.convert('RGB')\n",
    "            img = img.resize((img_size, img_size))\n",
    "            img.save(processed_dir + breed_dir + '/' + breed_file + '.jpg')\n",
    "            counter += 1\n",
    "        print(f'Saved {counter} images in {breed_dir} folder.')\n",
    "    print(f'Time elapsed: {round(time()-t0, 2)} seconds.')\n",
    "else:\n",
    "    print(f'Folder {processed_dir} with cropped images already exists.')"
   ]
  },
  {
   "cell_type": "code",
   "execution_count": 7,
   "id": "6b9c719c-d56f-4b2e-b07a-423e1fe9204d",
   "metadata": {},
   "outputs": [],
   "source": [
    "def image_paths_and_labels():\n",
    "    paths = list()\n",
    "    labels = list()\n",
    "    for breed_dir in breed_dir_list:\n",
    "        base_dir = f'{processed_dir}{breed_dir}'\n",
    "        labels.append(fullname_label_dict[breed_dir])\n",
    "        for img_file in os.listdir(base_dir):\n",
    "            paths.append(f'{base_dir}/{img_file}')\n",
    "    return paths, labels"
   ]
  },
  {
   "cell_type": "code",
   "execution_count": 8,
   "id": "6811e58f-ba3b-4e09-8cc4-1df80d20c53e",
   "metadata": {},
   "outputs": [],
   "source": [
    "paths, labels = image_paths_and_labels()"
   ]
  },
  {
   "cell_type": "code",
   "execution_count": 9,
   "id": "125855b9-2eee-4291-9543-3a017291ff73",
   "metadata": {},
   "outputs": [
    {
     "name": "stdout",
     "output_type": "stream",
     "text": [
      "Number of image paths: 20580\n",
      "Number of labels: 120\n"
     ]
    }
   ],
   "source": [
    "paths, labels = image_paths_and_labels()\n",
    "# print(f'Paths: {paths}')\n",
    "print(f'Number of image paths: {len(paths)}')\n",
    "# print(f'Labels: {labels}')\n",
    "print(f'Number of labels: {len(labels)}')"
   ]
  },
  {
   "cell_type": "code",
   "execution_count": null,
   "id": "a7cadb13-bac6-4772-bf99-c2aaf11e84a8",
   "metadata": {},
   "outputs": [],
   "source": []
  }
 ],
 "metadata": {
  "kernelspec": {
   "display_name": "Python 3 (ipykernel)",
   "language": "python",
   "name": "python3"
  },
  "language_info": {
   "codemirror_mode": {
    "name": "ipython",
    "version": 3
   },
   "file_extension": ".py",
   "mimetype": "text/x-python",
   "name": "python",
   "nbconvert_exporter": "python",
   "pygments_lexer": "ipython3",
   "version": "3.9.18"
  }
 },
 "nbformat": 4,
 "nbformat_minor": 5
}
