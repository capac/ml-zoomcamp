{
 "cells": [
  {
   "cell_type": "markdown",
   "id": "94e6eaaf-92e0-4ab8-896c-a54f5abe177c",
   "metadata": {},
   "source": [
    "# ML Zoomcamp 2023 – Second Capstone Project\n",
    "\n",
    "[Stanford Dogs Dataset](http://vision.stanford.edu/aditya86/ImageNetDogs)"
   ]
  },
  {
   "cell_type": "code",
   "execution_count": 1,
   "id": "a947ac4f-6416-4176-9c89-553c08887c73",
   "metadata": {},
   "outputs": [],
   "source": [
    "import os\n",
    "import re\n",
    "from pathlib import Path\n",
    "from time import time\n",
    "import xml.etree.ElementTree as ET\n",
    "from skimage.io import imread\n",
    "from skimage.transform import resize\n",
    "from PIL import Image"
   ]
  },
  {
   "cell_type": "code",
   "execution_count": 2,
   "id": "e7fe5112-98ea-4fac-aada-66c41e667f3c",
   "metadata": {},
   "outputs": [],
   "source": [
    "os.environ['TF_CPP_MIN_LOG_LEVEL'] = '2'\n",
    "import tensorflow as tf\n",
    "from tensorflow import keras"
   ]
  },
  {
   "cell_type": "code",
   "execution_count": 3,
   "id": "d495051d-5a06-4a03-860c-7bff1098953e",
   "metadata": {},
   "outputs": [],
   "source": [
    "images_dir = 'data/raw/Images'\n",
    "annotation_dir = 'data/raw/Annotation'\n",
    "processed_dir = 'data/processed'\n",
    "img_size = 300"
   ]
  },
  {
   "cell_type": "markdown",
   "id": "fdd924bb-fec6-4220-96fa-a26108e1876c",
   "metadata": {},
   "source": [
    "## Data preparation"
   ]
  },
  {
   "cell_type": "code",
   "execution_count": 4,
   "id": "28c61419-0403-4807-b08e-a463d113d559",
   "metadata": {},
   "outputs": [
    {
     "name": "stdout",
     "output_type": "stream",
     "text": [
      "Folder data/processed already exists.\n"
     ]
    }
   ],
   "source": [
    "# modified from https://www.kaggle.com/code/hengzheng/dog-breeds-classifier/notebook\n",
    "breed_dir_list = [name for name in os.listdir(images_dir) if name not in ['.DS_Store']]\n",
    "if not Path(processed_dir).exists():\n",
    "    Path.mkdir(Path.cwd() / processed_dir, exist_ok=True)\n",
    "    for breed_dir in breed_dir_list:\n",
    "        breed_name = re.sub(r'(n[0-9]+)-(\\w+\\-?\\_?)', r'\\2', breed_dir)\n",
    "        breed_name = re.sub(r'-', r'_', breed_name.lower())\n",
    "        Path.mkdir(Path.cwd() / processed_dir / breed_name, exist_ok=True)\n",
    "    print(f'''Created {len(os.listdir(processed_dir))} folders to store cropped images of the different breeds.''')\n",
    "else:\n",
    "    print(f'Folder {processed_dir} already exists.')"
   ]
  },
  {
   "cell_type": "code",
   "execution_count": 5,
   "id": "61b87cba-c970-467f-aa7e-4c56be2f711c",
   "metadata": {},
   "outputs": [
    {
     "name": "stdout",
     "output_type": "stream",
     "text": [
      "Saving 300x300 image sizes.\n",
      "Folder data/processed with cropped images already exists.\n"
     ]
    }
   ],
   "source": [
    "t0 = time()\n",
    "print(f'Saving {img_size}x{img_size} image sizes.')\n",
    "if not list(Path(processed_dir).glob('**/*.jpg')):\n",
    "    for breed_dir in breed_dir_list:\n",
    "        counter = 0\n",
    "        for breed_prefix in os.listdir(f'{annotation_dir}/{breed_dir}'):\n",
    "            img = Image.open(f'{images_dir}/{breed_dir}/{breed_prefix}.jpg')\n",
    "            tree = ET.parse(f'{annotation_dir}/{breed_dir}/{breed_prefix}')\n",
    "            xmin = int(tree.getroot().findall('object')[0].find('bndbox').find('xmin').text)\n",
    "            xmax = int(tree.getroot().findall('object')[0].find('bndbox').find('xmax').text)\n",
    "            ymin = int(tree.getroot().findall('object')[0].find('bndbox').find('ymin').text)\n",
    "            ymax = int(tree.getroot().findall('object')[0].find('bndbox').find('ymax').text)\n",
    "            img = img.crop((xmin, ymin, xmax, ymax))\n",
    "            img = img.convert('RGB')\n",
    "            img = img.resize((img_size, img_size))\n",
    "            breed_name = re.sub(r'(n[0-9]+)-(\\w+\\-?\\_?)', r'\\2', breed_dir)\n",
    "            breed_name = re.sub(r'-', r'_', breed_name.lower())\n",
    "            img.save(processed_dir + '/' + breed_name + '/' + breed_prefix + '.jpg')\n",
    "            counter += 1\n",
    "        print(f'Saved {counter} images in {breed_name} folder.')\n",
    "    print(f'Time elapsed: {round(time()-t0, 0)} seconds.')\n",
    "else:\n",
    "    print(f'Folder {processed_dir} with cropped images already exists.')"
   ]
  },
  {
   "cell_type": "markdown",
   "id": "cd36ed18-6ce2-4c97-b1cd-c0b83bb64a74",
   "metadata": {},
   "source": [
    "## Model training"
   ]
  },
  {
   "cell_type": "code",
   "execution_count": 6,
   "id": "9bde31c0-e6bf-4018-8fc1-f99a8b55b82b",
   "metadata": {},
   "outputs": [],
   "source": [
    "image_size_tuple = (img_size, img_size)\n",
    "batch_size = 128"
   ]
  },
  {
   "cell_type": "code",
   "execution_count": 7,
   "id": "2d121b3f-c633-4aed-8b87-99b0e1afb35c",
   "metadata": {},
   "outputs": [
    {
     "name": "stdout",
     "output_type": "stream",
     "text": [
      "Found 20580 files belonging to 120 classes.\n",
      "Using 16464 files for training.\n",
      "Using 4116 files for validation.\n"
     ]
    }
   ],
   "source": [
    "train_ds, val_ds = keras.utils.image_dataset_from_directory(\n",
    "    processed_dir,\n",
    "    validation_split = 0.2,\n",
    "    subset = 'both',\n",
    "    seed = 33,\n",
    "    labels = 'inferred',\n",
    "    label_mode = 'categorical',\n",
    "    image_size = image_size_tuple,\n",
    "    batch_size = batch_size,\n",
    ")"
   ]
  },
  {
   "cell_type": "code",
   "execution_count": null,
   "id": "fb531e63-01d5-40c2-9411-ed63ec381028",
   "metadata": {},
   "outputs": [],
   "source": []
  }
 ],
 "metadata": {
  "kernelspec": {
   "display_name": "Python 3 (ipykernel)",
   "language": "python",
   "name": "python3"
  },
  "language_info": {
   "codemirror_mode": {
    "name": "ipython",
    "version": 3
   },
   "file_extension": ".py",
   "mimetype": "text/x-python",
   "name": "python",
   "nbconvert_exporter": "python",
   "pygments_lexer": "ipython3",
   "version": "3.9.18"
  }
 },
 "nbformat": 4,
 "nbformat_minor": 5
}
